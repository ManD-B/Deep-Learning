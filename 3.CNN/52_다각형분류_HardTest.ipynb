{
 "cells": [
  {
   "cell_type": "markdown",
   "metadata": {
    "colab_type": "text",
    "id": "3rG34xrNgE7I"
   },
   "source": [
    "# 원, 삼각형, 사각형 구분하기\n",
    "## 2. 어려운 테스트 문제를 기존 CNN 모델로 푸는 경우"
   ]
  },
  {
   "cell_type": "code",
   "execution_count": 1,
   "metadata": {
    "colab": {},
    "colab_type": "code",
    "id": "bwA2Lk7gilA1"
   },
   "outputs": [
    {
     "name": "stderr",
     "output_type": "stream",
     "text": [
      "Using TensorFlow backend.\n"
     ]
    }
   ],
   "source": [
    "import numpy as np\n",
    "import tensorflow as tf\n",
    "from tensorflow import keras\n",
    "from keras.models import Sequential\n",
    "from keras.layers import Dense, Flatten, Conv2D, MaxPooling2D\n",
    "from keras.preprocessing.image import ImageDataGenerator"
   ]
  },
  {
   "cell_type": "code",
   "execution_count": 2,
   "metadata": {},
   "outputs": [],
   "source": [
    "# seed 값 설정\n",
    "seed = 2020\n",
    "np.random.seed(seed)\n",
    "tf.random.set_seed(seed)"
   ]
  },
  {
   "cell_type": "markdown",
   "metadata": {
    "colab_type": "text",
    "id": "SjsMBcR0pnzv"
   },
   "source": [
    "### 데이터셋 생성하기"
   ]
  },
  {
   "cell_type": "code",
   "execution_count": 3,
   "metadata": {
    "colab": {
     "base_uri": "https://localhost:8080/",
     "height": 53
    },
    "colab_type": "code",
    "id": "9Ffv4Qcfkxd0",
    "outputId": "caa7aa1e-8c4b-482d-ce65-d7f48e8e5920"
   },
   "outputs": [
    {
     "name": "stdout",
     "output_type": "stream",
     "text": [
      "Found 45 images belonging to 3 classes.\n",
      "Found 15 images belonging to 3 classes.\n"
     ]
    }
   ],
   "source": [
    "train_datagen = ImageDataGenerator(rescale=1./255)\n",
    "\n",
    "train_generator = train_datagen.flow_from_directory(\n",
    "        'hard_handwriting_shape/train',\n",
    "        target_size=(24, 24),\n",
    "        batch_size=3,\n",
    "        class_mode='categorical')\n",
    "\n",
    "test_datagen = ImageDataGenerator(rescale=1./255)\n",
    "\n",
    "test_generator = test_datagen.flow_from_directory(\n",
    "        'hard_handwriting_shape/test',\n",
    "        target_size=(24, 24),    \n",
    "        batch_size=3,\n",
    "        class_mode='categorical')"
   ]
  },
  {
   "cell_type": "markdown",
   "metadata": {
    "colab_type": "text",
    "id": "K88bSm6wpwsK"
   },
   "source": [
    "### 모델 구성하기"
   ]
  },
  {
   "cell_type": "code",
   "execution_count": 4,
   "metadata": {
    "colab": {
     "base_uri": "https://localhost:8080/",
     "height": 377
    },
    "colab_type": "code",
    "id": "G5TOCJzIpVfR",
    "outputId": "35def669-2606-46e4-efee-98f549cce104"
   },
   "outputs": [
    {
     "name": "stdout",
     "output_type": "stream",
     "text": [
      "Model: \"sequential_1\"\n",
      "_________________________________________________________________\n",
      "Layer (type)                 Output Shape              Param #   \n",
      "=================================================================\n",
      "conv2d_1 (Conv2D)            (None, 22, 22, 32)        896       \n",
      "_________________________________________________________________\n",
      "conv2d_2 (Conv2D)            (None, 20, 20, 64)        18496     \n",
      "_________________________________________________________________\n",
      "max_pooling2d_1 (MaxPooling2 (None, 10, 10, 64)        0         \n",
      "_________________________________________________________________\n",
      "flatten_1 (Flatten)          (None, 6400)              0         \n",
      "_________________________________________________________________\n",
      "dense_1 (Dense)              (None, 128)               819328    \n",
      "_________________________________________________________________\n",
      "dense_2 (Dense)              (None, 3)                 387       \n",
      "=================================================================\n",
      "Total params: 839,107\n",
      "Trainable params: 839,107\n",
      "Non-trainable params: 0\n",
      "_________________________________________________________________\n"
     ]
    }
   ],
   "source": [
    "model = Sequential()\n",
    "model.add(Conv2D(32, kernel_size=(3, 3),\n",
    "                 activation='relu', input_shape=(24,24,3)))\n",
    "model.add(Conv2D(64, (3, 3), activation='relu'))\n",
    "model.add(MaxPooling2D(pool_size=(2, 2)))\n",
    "model.add(Flatten())\n",
    "model.add(Dense(128, activation='relu'))\n",
    "model.add(Dense(3, activation='softmax'))\n",
    "model.summary()"
   ]
  },
  {
   "cell_type": "markdown",
   "metadata": {
    "colab_type": "text",
    "id": "wrjhuhJ2tEeA"
   },
   "source": [
    "### 모델 학습과정 설정하기"
   ]
  },
  {
   "cell_type": "code",
   "execution_count": 5,
   "metadata": {
    "colab": {},
    "colab_type": "code",
    "id": "hBUFfHV6sSRW"
   },
   "outputs": [],
   "source": [
    "model.compile(loss='categorical_crossentropy', \n",
    "              optimizer='adam', metrics=['accuracy'])"
   ]
  },
  {
   "cell_type": "markdown",
   "metadata": {
    "colab_type": "text",
    "id": "sZ_WQ05itPr9"
   },
   "source": [
    "## 모델 학습시키기\n",
    "- 첫번째 인자 : 훈련데이터셋을 제공할 제네레이터를 지정. 본 예제에서는 앞서 생성한 train_generator으로 지정.\n",
    "- steps_per_epoch : 한 epoch에 사용한 스텝 수를 지정. 총 45개의 훈련 샘플이 있고 배치사이즈가 3이므로 15 스텝으로 지정.\n",
    "- epochs : 전체 훈련 데이터셋에 대해 학습 반복 횟수를 지정. 200번을 반복적으로 학습.\n",
    "- validation_data : 검증데이터셋을 제공할 제네레이터를 지정. 본 예제에서는 앞서 생성한 validation_generator으로 지정.\n",
    "- validation_steps : 한 epoch 종료 시 마다 검증할 때 사용되는 검증 스텝 수를 지정. 홍 15개의 검증 샘플이 있고 배치사이즈가 3이므로 5 스텝으로 지정."
   ]
  },
  {
   "cell_type": "code",
   "execution_count": 6,
   "metadata": {
    "colab": {
     "base_uri": "https://localhost:8080/",
     "height": 1000
    },
    "colab_type": "code",
    "id": "oMzc0kFdtLMY",
    "outputId": "93273fea-58c8-474a-8308-9a3fdeae55d4"
   },
   "outputs": [
    {
     "name": "stdout",
     "output_type": "stream",
     "text": [
      "Epoch 1/200\n",
      "15/15 [==============================] - 1s 38ms/step - loss: 1.1724 - accuracy: 0.5778 - val_loss: 0.9947 - val_accuracy: 0.4000\n",
      "Epoch 2/200\n",
      "15/15 [==============================] - 0s 9ms/step - loss: 0.2260 - accuracy: 0.9333 - val_loss: 2.5845 - val_accuracy: 0.3333\n",
      "Epoch 3/200\n",
      "15/15 [==============================] - 0s 9ms/step - loss: 0.0097 - accuracy: 1.0000 - val_loss: 2.7716 - val_accuracy: 0.4000\n",
      "Epoch 4/200\n",
      "15/15 [==============================] - 0s 11ms/step - loss: 0.0010 - accuracy: 1.0000 - val_loss: 3.3488 - val_accuracy: 0.4000\n",
      "Epoch 5/200\n",
      "15/15 [==============================] - 0s 10ms/step - loss: 4.3237e-04 - accuracy: 1.0000 - val_loss: 3.0885 - val_accuracy: 0.4000\n",
      "Epoch 6/200\n",
      "15/15 [==============================] - 0s 10ms/step - loss: 3.0924e-04 - accuracy: 1.0000 - val_loss: 4.0467 - val_accuracy: 0.4000\n",
      "Epoch 7/200\n",
      "15/15 [==============================] - 0s 9ms/step - loss: 2.1948e-04 - accuracy: 1.0000 - val_loss: 1.8186 - val_accuracy: 0.4000\n",
      "Epoch 8/200\n",
      "15/15 [==============================] - 0s 10ms/step - loss: 1.8490e-04 - accuracy: 1.0000 - val_loss: 3.7327 - val_accuracy: 0.4000\n",
      "Epoch 9/200\n",
      "15/15 [==============================] - 0s 8ms/step - loss: 1.3552e-04 - accuracy: 1.0000 - val_loss: 3.8620 - val_accuracy: 0.3333\n",
      "Epoch 10/200\n",
      "15/15 [==============================] - 0s 11ms/step - loss: 1.1026e-04 - accuracy: 1.0000 - val_loss: 7.1073 - val_accuracy: 0.3333\n",
      "Epoch 11/200\n",
      "15/15 [==============================] - 0s 10ms/step - loss: 8.7837e-05 - accuracy: 1.0000 - val_loss: 3.2470 - val_accuracy: 0.3333\n",
      "Epoch 12/200\n",
      "15/15 [==============================] - 0s 10ms/step - loss: 6.4098e-05 - accuracy: 1.0000 - val_loss: 4.2859 - val_accuracy: 0.3333\n",
      "Epoch 13/200\n",
      "15/15 [==============================] - 0s 10ms/step - loss: 4.8922e-05 - accuracy: 1.0000 - val_loss: 9.9076 - val_accuracy: 0.3333\n",
      "Epoch 14/200\n",
      "15/15 [==============================] - 0s 10ms/step - loss: 3.9701e-05 - accuracy: 1.0000 - val_loss: 4.6055 - val_accuracy: 0.4000\n",
      "Epoch 15/200\n",
      "15/15 [==============================] - 0s 10ms/step - loss: 3.0961e-05 - accuracy: 1.0000 - val_loss: 0.0036 - val_accuracy: 0.3333\n",
      "Epoch 16/200\n",
      "15/15 [==============================] - 0s 10ms/step - loss: 2.4376e-05 - accuracy: 1.0000 - val_loss: 4.8203 - val_accuracy: 0.4000\n",
      "Epoch 17/200\n",
      "15/15 [==============================] - 0s 10ms/step - loss: 1.9340e-05 - accuracy: 1.0000 - val_loss: 9.4603 - val_accuracy: 0.4000\n",
      "Epoch 18/200\n",
      "15/15 [==============================] - 0s 10ms/step - loss: 1.6358e-05 - accuracy: 1.0000 - val_loss: 0.0021 - val_accuracy: 0.4000\n",
      "Epoch 19/200\n",
      "15/15 [==============================] - 0s 10ms/step - loss: 1.3923e-05 - accuracy: 1.0000 - val_loss: 2.9713 - val_accuracy: 0.4000\n",
      "Epoch 20/200\n",
      "15/15 [==============================] - 0s 10ms/step - loss: 1.2024e-05 - accuracy: 1.0000 - val_loss: 6.1894 - val_accuracy: 0.4000\n",
      "Epoch 21/200\n",
      "15/15 [==============================] - 0s 10ms/step - loss: 1.0029e-05 - accuracy: 1.0000 - val_loss: 2.1004 - val_accuracy: 0.4000\n",
      "Epoch 22/200\n",
      "15/15 [==============================] - 0s 10ms/step - loss: 8.7922e-06 - accuracy: 1.0000 - val_loss: 5.6082 - val_accuracy: 0.4000\n",
      "Epoch 23/200\n",
      "15/15 [==============================] - 0s 10ms/step - loss: 7.7035e-06 - accuracy: 1.0000 - val_loss: 6.1236 - val_accuracy: 0.4000\n",
      "Epoch 24/200\n",
      "15/15 [==============================] - 0s 10ms/step - loss: 6.8717e-06 - accuracy: 1.0000 - val_loss: 7.3082 - val_accuracy: 0.4000\n",
      "Epoch 25/200\n",
      "15/15 [==============================] - 0s 10ms/step - loss: 6.1114e-06 - accuracy: 1.0000 - val_loss: 6.1373 - val_accuracy: 0.4000\n",
      "Epoch 26/200\n",
      "15/15 [==============================] - 0s 10ms/step - loss: 5.5948e-06 - accuracy: 1.0000 - val_loss: 7.4268 - val_accuracy: 0.4000\n",
      "Epoch 27/200\n",
      "15/15 [==============================] - 0s 10ms/step - loss: 5.0465e-06 - accuracy: 1.0000 - val_loss: 1.9575 - val_accuracy: 0.4000\n",
      "Epoch 28/200\n",
      "15/15 [==============================] - 0s 10ms/step - loss: 4.5591e-06 - accuracy: 1.0000 - val_loss: 6.0056 - val_accuracy: 0.4000\n",
      "Epoch 29/200\n",
      "15/15 [==============================] - 0s 10ms/step - loss: 4.2014e-06 - accuracy: 1.0000 - val_loss: 7.5562 - val_accuracy: 0.4000\n",
      "Epoch 30/200\n",
      "15/15 [==============================] - 0s 10ms/step - loss: 3.8200e-06 - accuracy: 1.0000 - val_loss: 3.3139 - val_accuracy: 0.4000\n",
      "Epoch 31/200\n",
      "15/15 [==============================] - 0s 10ms/step - loss: 3.4385e-06 - accuracy: 1.0000 - val_loss: 9.1895 - val_accuracy: 0.4000\n",
      "Epoch 32/200\n",
      "15/15 [==============================] - 0s 10ms/step - loss: 3.2054e-06 - accuracy: 1.0000 - val_loss: 4.6589 - val_accuracy: 0.4000\n",
      "Epoch 33/200\n",
      "15/15 [==============================] - 0s 10ms/step - loss: 2.9643e-06 - accuracy: 1.0000 - val_loss: 4.5167 - val_accuracy: 0.4000\n",
      "Epoch 34/200\n",
      "15/15 [==============================] - 0s 10ms/step - loss: 2.7391e-06 - accuracy: 1.0000 - val_loss: 4.1974 - val_accuracy: 0.4000\n",
      "Epoch 35/200\n",
      "15/15 [==============================] - 0s 10ms/step - loss: 2.5405e-06 - accuracy: 1.0000 - val_loss: 2.2036 - val_accuracy: 0.4000\n",
      "Epoch 36/200\n",
      "15/15 [==============================] - 0s 10ms/step - loss: 2.4001e-06 - accuracy: 1.0000 - val_loss: 5.9380 - val_accuracy: 0.4000\n",
      "Epoch 37/200\n",
      "15/15 [==============================] - 0s 10ms/step - loss: 2.2968e-06 - accuracy: 1.0000 - val_loss: 9.5696 - val_accuracy: 0.4000\n",
      "Epoch 38/200\n",
      "15/15 [==============================] - 0s 10ms/step - loss: 2.1458e-06 - accuracy: 1.0000 - val_loss: 1.4464 - val_accuracy: 0.4000\n",
      "Epoch 39/200\n",
      "15/15 [==============================] - 0s 10ms/step - loss: 1.9603e-06 - accuracy: 1.0000 - val_loss: 4.2826 - val_accuracy: 0.4000\n",
      "Epoch 40/200\n",
      "15/15 [==============================] - 0s 10ms/step - loss: 1.8782e-06 - accuracy: 1.0000 - val_loss: 2.2324 - val_accuracy: 0.4000\n",
      "Epoch 41/200\n",
      "15/15 [==============================] - 0s 10ms/step - loss: 1.6954e-06 - accuracy: 1.0000 - val_loss: 8.0076 - val_accuracy: 0.4000\n",
      "Epoch 42/200\n",
      "15/15 [==============================] - 0s 10ms/step - loss: 1.5815e-06 - accuracy: 1.0000 - val_loss: 0.2414 - val_accuracy: 0.4000\n",
      "Epoch 43/200\n",
      "15/15 [==============================] - 0s 10ms/step - loss: 1.4517e-06 - accuracy: 1.0000 - val_loss: 8.5959 - val_accuracy: 0.4000\n",
      "Epoch 44/200\n",
      "15/15 [==============================] - 0s 10ms/step - loss: 1.3457e-06 - accuracy: 1.0000 - val_loss: 12.0987 - val_accuracy: 0.4000\n",
      "Epoch 45/200\n",
      "15/15 [==============================] - 0s 10ms/step - loss: 1.2663e-06 - accuracy: 1.0000 - val_loss: 3.6347 - val_accuracy: 0.4000\n",
      "Epoch 46/200\n",
      "15/15 [==============================] - 0s 10ms/step - loss: 1.2027e-06 - accuracy: 1.0000 - val_loss: 3.6246 - val_accuracy: 0.4000\n",
      "Epoch 47/200\n",
      "15/15 [==============================] - 0s 10ms/step - loss: 1.1232e-06 - accuracy: 1.0000 - val_loss: 6.8022 - val_accuracy: 0.4000\n",
      "Epoch 48/200\n",
      "15/15 [==============================] - 0s 10ms/step - loss: 1.0702e-06 - accuracy: 1.0000 - val_loss: 5.4763 - val_accuracy: 0.4000\n",
      "Epoch 49/200\n",
      "15/15 [==============================] - 0s 10ms/step - loss: 1.0146e-06 - accuracy: 1.0000 - val_loss: 3.3582 - val_accuracy: 0.4000\n",
      "Epoch 50/200\n",
      "15/15 [==============================] - 0s 10ms/step - loss: 9.7222e-07 - accuracy: 1.0000 - val_loss: 6.1077 - val_accuracy: 0.4000\n",
      "Epoch 51/200\n",
      "15/15 [==============================] - 0s 10ms/step - loss: 9.2718e-07 - accuracy: 1.0000 - val_loss: 4.6910 - val_accuracy: 0.4000\n",
      "Epoch 52/200\n",
      "15/15 [==============================] - 0s 10ms/step - loss: 8.9539e-07 - accuracy: 1.0000 - val_loss: 4.5527 - val_accuracy: 0.4000\n",
      "Epoch 53/200\n",
      "15/15 [==============================] - 0s 10ms/step - loss: 8.4771e-07 - accuracy: 1.0000 - val_loss: 2.5467 - val_accuracy: 0.4000\n",
      "Epoch 54/200\n",
      "15/15 [==============================] - 0s 10ms/step - loss: 8.1062e-07 - accuracy: 1.0000 - val_loss: 8.6514 - val_accuracy: 0.4000\n",
      "Epoch 55/200\n",
      "15/15 [==============================] - 0s 10ms/step - loss: 7.7089e-07 - accuracy: 1.0000 - val_loss: 6.8904 - val_accuracy: 0.4000\n",
      "Epoch 56/200\n",
      "15/15 [==============================] - 0s 10ms/step - loss: 7.4969e-07 - accuracy: 1.0000 - val_loss: 4.7397 - val_accuracy: 0.4000\n"
     ]
    },
    {
     "name": "stdout",
     "output_type": "stream",
     "text": [
      "Epoch 57/200\n",
      "15/15 [==============================] - 0s 10ms/step - loss: 7.0996e-07 - accuracy: 1.0000 - val_loss: 8.9557 - val_accuracy: 0.4000\n",
      "Epoch 58/200\n",
      "15/15 [==============================] - 0s 10ms/step - loss: 7.0466e-07 - accuracy: 1.0000 - val_loss: 6.4262 - val_accuracy: 0.4000\n",
      "Epoch 59/200\n",
      "15/15 [==============================] - 0s 10ms/step - loss: 6.5962e-07 - accuracy: 1.0000 - val_loss: 4.5163 - val_accuracy: 0.4000\n",
      "Epoch 60/200\n",
      "15/15 [==============================] - 0s 10ms/step - loss: 6.3313e-07 - accuracy: 1.0000 - val_loss: 3.7742 - val_accuracy: 0.4000\n",
      "Epoch 61/200\n",
      "15/15 [==============================] - 0s 10ms/step - loss: 6.1194e-07 - accuracy: 1.0000 - val_loss: 3.7754 - val_accuracy: 0.4000\n",
      "Epoch 62/200\n",
      "15/15 [==============================] - 0s 10ms/step - loss: 5.9340e-07 - accuracy: 1.0000 - val_loss: 4.7765 - val_accuracy: 0.4000\n",
      "Epoch 63/200\n",
      "15/15 [==============================] - 0s 10ms/step - loss: 5.7750e-07 - accuracy: 1.0000 - val_loss: 3.9473 - val_accuracy: 0.4000\n",
      "Epoch 64/200\n",
      "15/15 [==============================] - 0s 9ms/step - loss: 5.5366e-07 - accuracy: 1.0000 - val_loss: 5.2575 - val_accuracy: 0.4000\n",
      "Epoch 65/200\n",
      "15/15 [==============================] - 0s 9ms/step - loss: 5.4041e-07 - accuracy: 1.0000 - val_loss: 3.1888 - val_accuracy: 0.4000\n",
      "Epoch 66/200\n",
      "15/15 [==============================] - 0s 11ms/step - loss: 5.2187e-07 - accuracy: 1.0000 - val_loss: 5.8388 - val_accuracy: 0.4000\n",
      "Epoch 67/200\n",
      "15/15 [==============================] - 0s 10ms/step - loss: 4.9803e-07 - accuracy: 1.0000 - val_loss: 3.1973 - val_accuracy: 0.4000\n",
      "Epoch 68/200\n",
      "15/15 [==============================] - 0s 10ms/step - loss: 4.8478e-07 - accuracy: 1.0000 - val_loss: 6.5731 - val_accuracy: 0.4000\n",
      "Epoch 69/200\n",
      "15/15 [==============================] - 0s 10ms/step - loss: 4.6889e-07 - accuracy: 1.0000 - val_loss: 5.7150 - val_accuracy: 0.4000\n",
      "Epoch 70/200\n",
      "15/15 [==============================] - 0s 10ms/step - loss: 4.6359e-07 - accuracy: 1.0000 - val_loss: 4.1875 - val_accuracy: 0.4000\n",
      "Epoch 71/200\n",
      "15/15 [==============================] - 0s 10ms/step - loss: 4.4240e-07 - accuracy: 1.0000 - val_loss: 4.7806 - val_accuracy: 0.4000\n",
      "Epoch 72/200\n",
      "15/15 [==============================] - 0s 10ms/step - loss: 4.1591e-07 - accuracy: 1.0000 - val_loss: 10.2132 - val_accuracy: 0.4000\n",
      "Epoch 73/200\n",
      "15/15 [==============================] - 0s 10ms/step - loss: 4.0531e-07 - accuracy: 1.0000 - val_loss: 6.7522 - val_accuracy: 0.4000\n",
      "Epoch 74/200\n",
      "15/15 [==============================] - 0s 10ms/step - loss: 3.9736e-07 - accuracy: 1.0000 - val_loss: 3.6132 - val_accuracy: 0.4000\n",
      "Epoch 75/200\n",
      "15/15 [==============================] - 0s 10ms/step - loss: 3.8677e-07 - accuracy: 1.0000 - val_loss: 3.1726 - val_accuracy: 0.4000\n",
      "Epoch 76/200\n",
      "15/15 [==============================] - 0s 10ms/step - loss: 3.7352e-07 - accuracy: 1.0000 - val_loss: 4.0256 - val_accuracy: 0.4000\n",
      "Epoch 77/200\n",
      "15/15 [==============================] - 0s 10ms/step - loss: 3.6557e-07 - accuracy: 1.0000 - val_loss: 9.0977 - val_accuracy: 0.4000\n",
      "Epoch 78/200\n",
      "15/15 [==============================] - 0s 10ms/step - loss: 3.5233e-07 - accuracy: 1.0000 - val_loss: 3.0036 - val_accuracy: 0.4000\n",
      "Epoch 79/200\n",
      "15/15 [==============================] - 0s 10ms/step - loss: 3.4438e-07 - accuracy: 1.0000 - val_loss: 1.6089 - val_accuracy: 0.4000\n",
      "Epoch 80/200\n",
      "15/15 [==============================] - 0s 10ms/step - loss: 3.4173e-07 - accuracy: 1.0000 - val_loss: 9.0471e-05 - val_accuracy: 0.4000\n",
      "Epoch 81/200\n",
      "15/15 [==============================] - 0s 10ms/step - loss: 3.3643e-07 - accuracy: 1.0000 - val_loss: 7.4452 - val_accuracy: 0.4000\n",
      "Epoch 82/200\n",
      "15/15 [==============================] - 0s 10ms/step - loss: 3.2319e-07 - accuracy: 1.0000 - val_loss: 5.2560 - val_accuracy: 0.4000\n",
      "Epoch 83/200\n",
      "15/15 [==============================] - 0s 10ms/step - loss: 3.1524e-07 - accuracy: 1.0000 - val_loss: 0.0081 - val_accuracy: 0.4000\n",
      "Epoch 84/200\n",
      "15/15 [==============================] - 0s 10ms/step - loss: 3.0729e-07 - accuracy: 1.0000 - val_loss: 7.4924 - val_accuracy: 0.4000\n",
      "Epoch 85/200\n",
      "15/15 [==============================] - 0s 10ms/step - loss: 2.9670e-07 - accuracy: 1.0000 - val_loss: 6.8889 - val_accuracy: 0.4000\n",
      "Epoch 86/200\n",
      "15/15 [==============================] - 0s 10ms/step - loss: 2.9140e-07 - accuracy: 1.0000 - val_loss: 8.5808 - val_accuracy: 0.4000\n",
      "Epoch 87/200\n",
      "15/15 [==============================] - 0s 10ms/step - loss: 2.8610e-07 - accuracy: 1.0000 - val_loss: 5.4763 - val_accuracy: 0.4000\n",
      "Epoch 88/200\n",
      "15/15 [==============================] - 0s 10ms/step - loss: 2.7551e-07 - accuracy: 1.0000 - val_loss: 5.6436 - val_accuracy: 0.4000\n",
      "Epoch 89/200\n",
      "15/15 [==============================] - 0s 10ms/step - loss: 2.6491e-07 - accuracy: 1.0000 - val_loss: 2.0093 - val_accuracy: 0.4000\n",
      "Epoch 90/200\n",
      "15/15 [==============================] - 0s 10ms/step - loss: 2.5696e-07 - accuracy: 1.0000 - val_loss: 4.9343 - val_accuracy: 0.4000\n",
      "Epoch 91/200\n",
      "15/15 [==============================] - 0s 10ms/step - loss: 2.5166e-07 - accuracy: 1.0000 - val_loss: 11.0425 - val_accuracy: 0.4000\n",
      "Epoch 92/200\n",
      "15/15 [==============================] - 0s 10ms/step - loss: 2.4637e-07 - accuracy: 1.0000 - val_loss: 3.2258 - val_accuracy: 0.4000\n",
      "Epoch 93/200\n",
      "15/15 [==============================] - 0s 10ms/step - loss: 2.4107e-07 - accuracy: 1.0000 - val_loss: 3.8298 - val_accuracy: 0.4000\n",
      "Epoch 94/200\n",
      "15/15 [==============================] - 0s 10ms/step - loss: 2.4107e-07 - accuracy: 1.0000 - val_loss: 5.7023 - val_accuracy: 0.4000\n",
      "Epoch 95/200\n",
      "15/15 [==============================] - 0s 10ms/step - loss: 2.3312e-07 - accuracy: 1.0000 - val_loss: 10.4420 - val_accuracy: 0.4000\n",
      "Epoch 96/200\n",
      "15/15 [==============================] - 0s 10ms/step - loss: 2.3047e-07 - accuracy: 1.0000 - val_loss: 5.6339 - val_accuracy: 0.4000\n",
      "Epoch 97/200\n",
      "15/15 [==============================] - 0s 10ms/step - loss: 2.1987e-07 - accuracy: 1.0000 - val_loss: 0.0076 - val_accuracy: 0.4000\n",
      "Epoch 98/200\n",
      "15/15 [==============================] - 0s 10ms/step - loss: 2.1723e-07 - accuracy: 1.0000 - val_loss: 10.8502 - val_accuracy: 0.4000\n",
      "Epoch 99/200\n",
      "15/15 [==============================] - 0s 10ms/step - loss: 2.1723e-07 - accuracy: 1.0000 - val_loss: 2.6274 - val_accuracy: 0.4000\n",
      "Epoch 100/200\n",
      "15/15 [==============================] - 0s 10ms/step - loss: 2.1193e-07 - accuracy: 1.0000 - val_loss: 9.2857 - val_accuracy: 0.4000\n",
      "Epoch 101/200\n",
      "15/15 [==============================] - 0s 10ms/step - loss: 2.0663e-07 - accuracy: 1.0000 - val_loss: 7.0340 - val_accuracy: 0.4000\n",
      "Epoch 102/200\n",
      "15/15 [==============================] - 0s 10ms/step - loss: 2.0398e-07 - accuracy: 1.0000 - val_loss: 4.0125 - val_accuracy: 0.4000\n",
      "Epoch 103/200\n",
      "15/15 [==============================] - 0s 10ms/step - loss: 2.0133e-07 - accuracy: 1.0000 - val_loss: 8.7226 - val_accuracy: 0.4000\n",
      "Epoch 104/200\n",
      "15/15 [==============================] - 0s 10ms/step - loss: 1.9868e-07 - accuracy: 1.0000 - val_loss: 11.2008 - val_accuracy: 0.4000\n",
      "Epoch 105/200\n",
      "15/15 [==============================] - 0s 10ms/step - loss: 2.0133e-07 - accuracy: 1.0000 - val_loss: 5.6207 - val_accuracy: 0.4000\n",
      "Epoch 106/200\n",
      "15/15 [==============================] - 0s 10ms/step - loss: 1.8544e-07 - accuracy: 1.0000 - val_loss: 2.6489 - val_accuracy: 0.4000\n",
      "Epoch 107/200\n",
      "15/15 [==============================] - 0s 10ms/step - loss: 1.8014e-07 - accuracy: 1.0000 - val_loss: 3.8863 - val_accuracy: 0.4000\n",
      "Epoch 108/200\n",
      "15/15 [==============================] - 0s 10ms/step - loss: 1.7749e-07 - accuracy: 1.0000 - val_loss: 1.9933 - val_accuracy: 0.4000\n",
      "Epoch 109/200\n",
      "15/15 [==============================] - 0s 10ms/step - loss: 1.7484e-07 - accuracy: 1.0000 - val_loss: 9.3245 - val_accuracy: 0.4000\n",
      "Epoch 110/200\n",
      "15/15 [==============================] - 0s 10ms/step - loss: 1.6689e-07 - accuracy: 1.0000 - val_loss: 4.4346 - val_accuracy: 0.4000\n",
      "Epoch 111/200\n",
      "15/15 [==============================] - 0s 10ms/step - loss: 1.6159e-07 - accuracy: 1.0000 - val_loss: 3.3538 - val_accuracy: 0.4000\n",
      "Epoch 112/200\n"
     ]
    },
    {
     "name": "stdout",
     "output_type": "stream",
     "text": [
      "15/15 [==============================] - 0s 10ms/step - loss: 1.6159e-07 - accuracy: 1.0000 - val_loss: 7.3270 - val_accuracy: 0.4000\n",
      "Epoch 113/200\n",
      "15/15 [==============================] - 0s 10ms/step - loss: 1.5365e-07 - accuracy: 1.0000 - val_loss: 4.0583 - val_accuracy: 0.4000\n",
      "Epoch 114/200\n",
      "15/15 [==============================] - 0s 10ms/step - loss: 1.5100e-07 - accuracy: 1.0000 - val_loss: 5.7777 - val_accuracy: 0.4000\n",
      "Epoch 115/200\n",
      "15/15 [==============================] - 0s 10ms/step - loss: 1.4570e-07 - accuracy: 1.0000 - val_loss: 4.9522 - val_accuracy: 0.4000\n",
      "Epoch 116/200\n",
      "15/15 [==============================] - 0s 10ms/step - loss: 1.4570e-07 - accuracy: 1.0000 - val_loss: 5.7833 - val_accuracy: 0.4000\n",
      "Epoch 117/200\n",
      "15/15 [==============================] - 0s 10ms/step - loss: 1.4570e-07 - accuracy: 1.0000 - val_loss: 5.0688 - val_accuracy: 0.4000\n",
      "Epoch 118/200\n",
      "15/15 [==============================] - 0s 10ms/step - loss: 1.3775e-07 - accuracy: 1.0000 - val_loss: 0.9703 - val_accuracy: 0.4000\n",
      "Epoch 119/200\n",
      "15/15 [==============================] - 0s 10ms/step - loss: 1.4040e-07 - accuracy: 1.0000 - val_loss: 2.9436 - val_accuracy: 0.4000\n",
      "Epoch 120/200\n",
      "15/15 [==============================] - 0s 10ms/step - loss: 1.3510e-07 - accuracy: 1.0000 - val_loss: 8.9773 - val_accuracy: 0.4000\n",
      "Epoch 121/200\n",
      "15/15 [==============================] - 0s 10ms/step - loss: 1.3510e-07 - accuracy: 1.0000 - val_loss: 3.2675 - val_accuracy: 0.4000\n",
      "Epoch 122/200\n",
      "15/15 [==============================] - 0s 10ms/step - loss: 1.2716e-07 - accuracy: 1.0000 - val_loss: 8.3608 - val_accuracy: 0.4000\n",
      "Epoch 123/200\n",
      "15/15 [==============================] - 0s 10ms/step - loss: 1.2716e-07 - accuracy: 1.0000 - val_loss: 5.9178 - val_accuracy: 0.4000\n",
      "Epoch 124/200\n",
      "15/15 [==============================] - 0s 10ms/step - loss: 1.2451e-07 - accuracy: 1.0000 - val_loss: 5.5426 - val_accuracy: 0.4000\n",
      "Epoch 125/200\n",
      "15/15 [==============================] - 0s 10ms/step - loss: 1.2186e-07 - accuracy: 1.0000 - val_loss: 13.1602 - val_accuracy: 0.4000\n",
      "Epoch 126/200\n",
      "15/15 [==============================] - 0s 10ms/step - loss: 1.1921e-07 - accuracy: 1.0000 - val_loss: 5.5430 - val_accuracy: 0.4000\n",
      "Epoch 127/200\n",
      "15/15 [==============================] - 0s 10ms/step - loss: 1.1921e-07 - accuracy: 1.0000 - val_loss: 5.7209 - val_accuracy: 0.4000\n",
      "Epoch 128/200\n",
      "15/15 [==============================] - 0s 10ms/step - loss: 1.1921e-07 - accuracy: 1.0000 - val_loss: 5.7222 - val_accuracy: 0.4000\n",
      "Epoch 129/200\n",
      "15/15 [==============================] - 0s 9ms/step - loss: 1.1391e-07 - accuracy: 1.0000 - val_loss: 6.6909 - val_accuracy: 0.4000\n",
      "Epoch 130/200\n",
      "15/15 [==============================] - 0s 10ms/step - loss: 1.1126e-07 - accuracy: 1.0000 - val_loss: 7.7119 - val_accuracy: 0.4000\n",
      "Epoch 131/200\n",
      "15/15 [==============================] - 0s 10ms/step - loss: 1.0861e-07 - accuracy: 1.0000 - val_loss: 9.0931 - val_accuracy: 0.4000\n",
      "Epoch 132/200\n",
      "15/15 [==============================] - 0s 10ms/step - loss: 1.0331e-07 - accuracy: 1.0000 - val_loss: 3.7111 - val_accuracy: 0.4000\n",
      "Epoch 133/200\n",
      "15/15 [==============================] - 0s 10ms/step - loss: 1.0331e-07 - accuracy: 1.0000 - val_loss: 4.1346 - val_accuracy: 0.4000\n",
      "Epoch 134/200\n",
      "15/15 [==============================] - 0s 10ms/step - loss: 1.0331e-07 - accuracy: 1.0000 - val_loss: 7.2497 - val_accuracy: 0.4000\n",
      "Epoch 135/200\n",
      "15/15 [==============================] - 0s 10ms/step - loss: 1.0331e-07 - accuracy: 1.0000 - val_loss: 9.9163 - val_accuracy: 0.4000\n",
      "Epoch 136/200\n",
      "15/15 [==============================] - 0s 10ms/step - loss: 1.0331e-07 - accuracy: 1.0000 - val_loss: 4.1424 - val_accuracy: 0.4000\n",
      "Epoch 137/200\n",
      "15/15 [==============================] - 0s 10ms/step - loss: 1.0067e-07 - accuracy: 1.0000 - val_loss: 1.8498 - val_accuracy: 0.4000\n",
      "Epoch 138/200\n",
      "15/15 [==============================] - 0s 10ms/step - loss: 1.0067e-07 - accuracy: 1.0000 - val_loss: 5.1068 - val_accuracy: 0.4000\n",
      "Epoch 139/200\n",
      "15/15 [==============================] - 0s 10ms/step - loss: 9.8017e-08 - accuracy: 1.0000 - val_loss: 5.9042 - val_accuracy: 0.4000\n",
      "Epoch 140/200\n",
      "15/15 [==============================] - 0s 10ms/step - loss: 9.8017e-08 - accuracy: 1.0000 - val_loss: 5.4173 - val_accuracy: 0.4000\n",
      "Epoch 141/200\n",
      "15/15 [==============================] - 0s 10ms/step - loss: 9.2718e-08 - accuracy: 1.0000 - val_loss: 8.3987 - val_accuracy: 0.4000\n",
      "Epoch 142/200\n",
      "15/15 [==============================] - 0s 10ms/step - loss: 9.0069e-08 - accuracy: 1.0000 - val_loss: 6.7668 - val_accuracy: 0.4000\n",
      "Epoch 143/200\n",
      "15/15 [==============================] - 0s 10ms/step - loss: 9.0069e-08 - accuracy: 1.0000 - val_loss: 6.2202 - val_accuracy: 0.4000\n",
      "Epoch 144/200\n",
      "15/15 [==============================] - 0s 10ms/step - loss: 8.7420e-08 - accuracy: 1.0000 - val_loss: 9.0976 - val_accuracy: 0.4000\n",
      "Epoch 145/200\n",
      "15/15 [==============================] - 0s 10ms/step - loss: 8.4771e-08 - accuracy: 1.0000 - val_loss: 9.3286 - val_accuracy: 0.4000\n",
      "Epoch 146/200\n",
      "15/15 [==============================] - 0s 10ms/step - loss: 8.4771e-08 - accuracy: 1.0000 - val_loss: 10.0888 - val_accuracy: 0.4000\n",
      "Epoch 147/200\n",
      "15/15 [==============================] - 0s 10ms/step - loss: 8.2122e-08 - accuracy: 1.0000 - val_loss: 9.7038 - val_accuracy: 0.4000\n",
      "Epoch 148/200\n",
      "15/15 [==============================] - 0s 10ms/step - loss: 8.2122e-08 - accuracy: 1.0000 - val_loss: 9.9826 - val_accuracy: 0.4000\n",
      "Epoch 149/200\n",
      "15/15 [==============================] - 0s 10ms/step - loss: 8.2122e-08 - accuracy: 1.0000 - val_loss: 4.0171 - val_accuracy: 0.4000\n",
      "Epoch 150/200\n",
      "15/15 [==============================] - 0s 10ms/step - loss: 8.2122e-08 - accuracy: 1.0000 - val_loss: 6.6355 - val_accuracy: 0.4000\n",
      "Epoch 151/200\n",
      "15/15 [==============================] - 0s 10ms/step - loss: 8.2122e-08 - accuracy: 1.0000 - val_loss: 7.7442e-05 - val_accuracy: 0.4000\n",
      "Epoch 152/200\n",
      "15/15 [==============================] - 0s 10ms/step - loss: 8.2122e-08 - accuracy: 1.0000 - val_loss: 0.0065 - val_accuracy: 0.4000\n",
      "Epoch 153/200\n",
      "15/15 [==============================] - 0s 10ms/step - loss: 7.4175e-08 - accuracy: 1.0000 - val_loss: 11.0880 - val_accuracy: 0.4000\n",
      "Epoch 154/200\n",
      "15/15 [==============================] - 0s 10ms/step - loss: 7.4175e-08 - accuracy: 1.0000 - val_loss: 10.7319 - val_accuracy: 0.4000\n",
      "Epoch 155/200\n",
      "15/15 [==============================] - 0s 10ms/step - loss: 7.1526e-08 - accuracy: 1.0000 - val_loss: 1.9733 - val_accuracy: 0.4000\n",
      "Epoch 156/200\n",
      "15/15 [==============================] - 0s 10ms/step - loss: 7.1526e-08 - accuracy: 1.0000 - val_loss: 5.7139 - val_accuracy: 0.4000\n",
      "Epoch 157/200\n",
      "15/15 [==============================] - 0s 10ms/step - loss: 6.8876e-08 - accuracy: 1.0000 - val_loss: 5.2653 - val_accuracy: 0.4000\n",
      "Epoch 158/200\n",
      "15/15 [==============================] - 0s 10ms/step - loss: 6.3578e-08 - accuracy: 1.0000 - val_loss: 7.4258 - val_accuracy: 0.4000\n",
      "Epoch 159/200\n",
      "15/15 [==============================] - 0s 10ms/step - loss: 6.3578e-08 - accuracy: 1.0000 - val_loss: 7.8075 - val_accuracy: 0.4000\n",
      "Epoch 160/200\n",
      "15/15 [==============================] - 0s 10ms/step - loss: 6.3578e-08 - accuracy: 1.0000 - val_loss: 3.4883 - val_accuracy: 0.4000\n",
      "Epoch 161/200\n",
      "15/15 [==============================] - 0s 10ms/step - loss: 6.0929e-08 - accuracy: 1.0000 - val_loss: 1.7874 - val_accuracy: 0.4000\n",
      "Epoch 162/200\n",
      "15/15 [==============================] - 0s 10ms/step - loss: 6.0929e-08 - accuracy: 1.0000 - val_loss: 6.2308 - val_accuracy: 0.4000\n",
      "Epoch 163/200\n",
      "15/15 [==============================] - 0s 10ms/step - loss: 6.0929e-08 - accuracy: 1.0000 - val_loss: 7.2627 - val_accuracy: 0.4000\n",
      "Epoch 164/200\n",
      "15/15 [==============================] - 0s 10ms/step - loss: 6.0929e-08 - accuracy: 1.0000 - val_loss: 7.7021 - val_accuracy: 0.4000\n",
      "Epoch 165/200\n",
      "15/15 [==============================] - 0s 10ms/step - loss: 5.8280e-08 - accuracy: 1.0000 - val_loss: 5.2822 - val_accuracy: 0.4000\n",
      "Epoch 166/200\n",
      "15/15 [==============================] - 0s 10ms/step - loss: 5.8280e-08 - accuracy: 1.0000 - val_loss: 9.8156 - val_accuracy: 0.4000\n",
      "Epoch 167/200\n"
     ]
    },
    {
     "name": "stdout",
     "output_type": "stream",
     "text": [
      "15/15 [==============================] - 0s 10ms/step - loss: 5.8280e-08 - accuracy: 1.0000 - val_loss: 7.8414 - val_accuracy: 0.4000\n",
      "Epoch 168/200\n",
      "15/15 [==============================] - 0s 10ms/step - loss: 5.8280e-08 - accuracy: 1.0000 - val_loss: 5.8789 - val_accuracy: 0.4000\n",
      "Epoch 169/200\n",
      "15/15 [==============================] - 0s 10ms/step - loss: 5.8280e-08 - accuracy: 1.0000 - val_loss: 1.7988 - val_accuracy: 0.4000\n",
      "Epoch 170/200\n",
      "15/15 [==============================] - 0s 10ms/step - loss: 5.8280e-08 - accuracy: 1.0000 - val_loss: 13.5799 - val_accuracy: 0.4000\n",
      "Epoch 171/200\n",
      "15/15 [==============================] - 0s 10ms/step - loss: 5.8280e-08 - accuracy: 1.0000 - val_loss: 3.9751 - val_accuracy: 0.4000\n",
      "Epoch 172/200\n",
      "15/15 [==============================] - 0s 10ms/step - loss: 5.8280e-08 - accuracy: 1.0000 - val_loss: 6.8165 - val_accuracy: 0.4000\n",
      "Epoch 173/200\n",
      "15/15 [==============================] - 0s 11ms/step - loss: 5.5631e-08 - accuracy: 1.0000 - val_loss: 3.3174 - val_accuracy: 0.4000\n",
      "Epoch 174/200\n",
      "15/15 [==============================] - 0s 10ms/step - loss: 5.5631e-08 - accuracy: 1.0000 - val_loss: 6.7256 - val_accuracy: 0.4000\n",
      "Epoch 175/200\n",
      "15/15 [==============================] - 0s 10ms/step - loss: 5.5631e-08 - accuracy: 1.0000 - val_loss: 4.2349 - val_accuracy: 0.4000\n",
      "Epoch 176/200\n",
      "15/15 [==============================] - 0s 10ms/step - loss: 5.0333e-08 - accuracy: 1.0000 - val_loss: 10.1368 - val_accuracy: 0.4000\n",
      "Epoch 177/200\n",
      "15/15 [==============================] - 0s 10ms/step - loss: 5.0333e-08 - accuracy: 1.0000 - val_loss: 2.0515 - val_accuracy: 0.4000\n",
      "Epoch 178/200\n",
      "15/15 [==============================] - 0s 10ms/step - loss: 5.0333e-08 - accuracy: 1.0000 - val_loss: 5.3266 - val_accuracy: 0.4000\n",
      "Epoch 179/200\n",
      "15/15 [==============================] - 0s 10ms/step - loss: 4.7684e-08 - accuracy: 1.0000 - val_loss: 5.1343 - val_accuracy: 0.4000\n",
      "Epoch 180/200\n",
      "15/15 [==============================] - 0s 10ms/step - loss: 4.7684e-08 - accuracy: 1.0000 - val_loss: 3.4182 - val_accuracy: 0.4000\n",
      "Epoch 181/200\n",
      "15/15 [==============================] - 0s 10ms/step - loss: 4.7684e-08 - accuracy: 1.0000 - val_loss: 11.8815 - val_accuracy: 0.4000\n",
      "Epoch 182/200\n",
      "15/15 [==============================] - 0s 10ms/step - loss: 4.7684e-08 - accuracy: 1.0000 - val_loss: 6.9997 - val_accuracy: 0.4000\n",
      "Epoch 183/200\n",
      "15/15 [==============================] - 0s 10ms/step - loss: 4.7684e-08 - accuracy: 1.0000 - val_loss: 11.2521 - val_accuracy: 0.4000\n",
      "Epoch 184/200\n",
      "15/15 [==============================] - 0s 10ms/step - loss: 4.7684e-08 - accuracy: 1.0000 - val_loss: 3.7845 - val_accuracy: 0.4000\n",
      "Epoch 185/200\n",
      "15/15 [==============================] - 0s 10ms/step - loss: 4.7684e-08 - accuracy: 1.0000 - val_loss: 3.3201 - val_accuracy: 0.4000\n",
      "Epoch 186/200\n",
      "15/15 [==============================] - 0s 10ms/step - loss: 4.7684e-08 - accuracy: 1.0000 - val_loss: 6.8283 - val_accuracy: 0.4000\n",
      "Epoch 187/200\n",
      "15/15 [==============================] - 0s 10ms/step - loss: 4.7684e-08 - accuracy: 1.0000 - val_loss: 5.9003 - val_accuracy: 0.4000\n",
      "Epoch 188/200\n",
      "15/15 [==============================] - 0s 10ms/step - loss: 4.5035e-08 - accuracy: 1.0000 - val_loss: 9.9282 - val_accuracy: 0.4000\n",
      "Epoch 189/200\n",
      "15/15 [==============================] - 0s 10ms/step - loss: 4.7684e-08 - accuracy: 1.0000 - val_loss: 1.9220 - val_accuracy: 0.4000\n",
      "Epoch 190/200\n",
      "15/15 [==============================] - 0s 10ms/step - loss: 4.5035e-08 - accuracy: 1.0000 - val_loss: 6.8619 - val_accuracy: 0.4000\n",
      "Epoch 191/200\n",
      "15/15 [==============================] - 0s 10ms/step - loss: 4.5035e-08 - accuracy: 1.0000 - val_loss: 8.7179 - val_accuracy: 0.4000\n",
      "Epoch 192/200\n",
      "15/15 [==============================] - 0s 10ms/step - loss: 4.2386e-08 - accuracy: 1.0000 - val_loss: 6.0204 - val_accuracy: 0.4000\n",
      "Epoch 193/200\n",
      "15/15 [==============================] - 0s 10ms/step - loss: 4.2386e-08 - accuracy: 1.0000 - val_loss: 11.1258 - val_accuracy: 0.4000\n",
      "Epoch 194/200\n",
      "15/15 [==============================] - 0s 10ms/step - loss: 4.2386e-08 - accuracy: 1.0000 - val_loss: 2.8668 - val_accuracy: 0.4000\n",
      "Epoch 195/200\n",
      "15/15 [==============================] - 0s 10ms/step - loss: 3.9736e-08 - accuracy: 1.0000 - val_loss: 1.9280 - val_accuracy: 0.4000\n",
      "Epoch 196/200\n",
      "15/15 [==============================] - 0s 10ms/step - loss: 3.7087e-08 - accuracy: 1.0000 - val_loss: 0.0062 - val_accuracy: 0.4000\n",
      "Epoch 197/200\n",
      "15/15 [==============================] - 0s 10ms/step - loss: 3.7087e-08 - accuracy: 1.0000 - val_loss: 4.2710 - val_accuracy: 0.4000\n",
      "Epoch 198/200\n",
      "15/15 [==============================] - 0s 10ms/step - loss: 3.7087e-08 - accuracy: 1.0000 - val_loss: 9.7260 - val_accuracy: 0.4000\n",
      "Epoch 199/200\n",
      "15/15 [==============================] - 0s 10ms/step - loss: 3.7087e-08 - accuracy: 1.0000 - val_loss: 2.0311 - val_accuracy: 0.4000\n",
      "Epoch 200/200\n",
      "15/15 [==============================] - 0s 10ms/step - loss: 3.7087e-08 - accuracy: 1.0000 - val_loss: 9.6684 - val_accuracy: 0.4000\n"
     ]
    },
    {
     "data": {
      "text/plain": [
       "<keras.callbacks.callbacks.History at 0x18fb9756a88>"
      ]
     },
     "execution_count": 6,
     "metadata": {},
     "output_type": "execute_result"
    }
   ],
   "source": [
    "model.fit_generator(\n",
    "        train_generator,\n",
    "        steps_per_epoch=15,\n",
    "        epochs=200,\n",
    "        validation_data=test_generator,\n",
    "        validation_steps=5)"
   ]
  },
  {
   "cell_type": "markdown",
   "metadata": {
    "colab_type": "text",
    "id": "uT9NEiI-uy52"
   },
   "source": [
    "### 모델 평가하기"
   ]
  },
  {
   "cell_type": "code",
   "execution_count": 7,
   "metadata": {
    "colab": {
     "base_uri": "https://localhost:8080/",
     "height": 53
    },
    "colab_type": "code",
    "id": "XZ8jXxlIu1SE",
    "outputId": "d27cd618-d626-4874-d6fe-03cd36b7d393"
   },
   "outputs": [
    {
     "name": "stdout",
     "output_type": "stream",
     "text": [
      "-- Evaluate --\n",
      "accuracy: 40.00%\n"
     ]
    }
   ],
   "source": [
    "print(\"-- Evaluate --\")\n",
    "scores = model.evaluate_generator(test_generator, steps=5)\n",
    "print(\"%s: %.2f%%\" %(model.metrics_names[1], scores[1]*100))"
   ]
  },
  {
   "cell_type": "markdown",
   "metadata": {
    "colab_type": "text",
    "id": "QTlRD9Mqu9K6"
   },
   "source": [
    "### 모델 사용하기"
   ]
  },
  {
   "cell_type": "code",
   "execution_count": 8,
   "metadata": {
    "colab": {
     "base_uri": "https://localhost:8080/",
     "height": 323
    },
    "colab_type": "code",
    "id": "Wabhqvy-u48Q",
    "outputId": "abb1e734-766a-45dc-b25b-c9b2c8d38a8d"
   },
   "outputs": [
    {
     "name": "stdout",
     "output_type": "stream",
     "text": [
      "-- Predict --\n",
      "{'circle': 0, 'rectangle': 1, 'triangle': 2}\n",
      "[[0.003 0.015 0.982]\n",
      " [0.000 0.000 1.000]\n",
      " [0.765 0.000 0.235]\n",
      " [0.000 0.000 1.000]\n",
      " [0.000 0.000 1.000]\n",
      " [0.000 0.000 1.000]\n",
      " [0.000 0.003 0.997]\n",
      " [0.000 0.000 1.000]\n",
      " [0.000 0.000 1.000]\n",
      " [0.000 0.062 0.938]\n",
      " [0.000 0.000 1.000]\n",
      " [0.000 0.000 1.000]\n",
      " [0.000 0.006 0.994]\n",
      " [0.590 0.004 0.406]\n",
      " [0.000 0.004 0.996]]\n"
     ]
    }
   ],
   "source": [
    "print(\"-- Predict --\")\n",
    "output = model.predict_generator(test_generator, steps=5)\n",
    "np.set_printoptions(formatter={'float': lambda x: \"{0:0.3f}\".format(x)})\n",
    "print(test_generator.class_indices)\n",
    "print(output)"
   ]
  },
  {
   "cell_type": "code",
   "execution_count": 9,
   "metadata": {
    "colab": {},
    "colab_type": "code",
    "id": "jVItItOmvZOJ"
   },
   "outputs": [
    {
     "name": "stdout",
     "output_type": "stream",
     "text": [
      "circle\\circle021.png 0 2\n",
      "circle\\circle022.png 0 2\n",
      "circle\\circle023.png 0 0\n",
      "circle\\circle024.png 0 2\n",
      "circle\\circle025.png 0 2\n",
      "rectangle\\rectangle021.png 1 2\n",
      "rectangle\\rectangle022.png 1 2\n",
      "rectangle\\rectangle023.png 1 2\n",
      "rectangle\\rectangle024.png 1 2\n",
      "rectangle\\rectangle025.png 1 2\n",
      "triangle\\triangle021.png 2 2\n",
      "triangle\\triangle022.png 2 2\n",
      "triangle\\triangle023.png 2 2\n",
      "triangle\\triangle024.png 2 0\n",
      "triangle\\triangle025.png 2 2\n"
     ]
    }
   ],
   "source": [
    "for i in range(len(test_generator.labels)):\n",
    "    print(test_generator.filenames[i], test_generator.labels[i], np.argmax(output[i]))"
   ]
  },
  {
   "cell_type": "code",
   "execution_count": null,
   "metadata": {},
   "outputs": [],
   "source": []
  },
  {
   "cell_type": "code",
   "execution_count": null,
   "metadata": {},
   "outputs": [],
   "source": []
  }
 ],
 "metadata": {
  "colab": {
   "collapsed_sections": [],
   "name": "PolygonClassfication_02_HardTest.ipynb",
   "provenance": [],
   "version": "0.3.2"
  },
  "kernelspec": {
   "display_name": "Python 3",
   "language": "python",
   "name": "python3"
  },
  "language_info": {
   "codemirror_mode": {
    "name": "ipython",
    "version": 3
   },
   "file_extension": ".py",
   "mimetype": "text/x-python",
   "name": "python",
   "nbconvert_exporter": "python",
   "pygments_lexer": "ipython3",
   "version": "3.7.7"
  }
 },
 "nbformat": 4,
 "nbformat_minor": 1
}
