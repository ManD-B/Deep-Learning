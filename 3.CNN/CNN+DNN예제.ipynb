{
 "cells": [
  {
   "cell_type": "markdown",
   "metadata": {},
   "source": [
    "# 이미지 인식 - DNN"
   ]
  },
  {
   "cell_type": "code",
   "execution_count": 22,
   "metadata": {},
   "outputs": [],
   "source": [
    "import numpy as np\n",
    "import tensorflow as tf\n",
    "from tensorflow.keras.datasets import mnist\n",
    "from tensorflow.keras.models import Sequential\n",
    "from tensorflow.keras.layers import Dense, Dropout, Flatten, Conv2D, MaxPooling2D\n",
    "from tensorflow.keras.callbacks import ModelCheckpoint, EarlyStopping\n",
    "\n",
    "import os\n",
    "import matplotlib.pyplot as plt\n",
    "%matplotlib inline"
   ]
  },
  {
   "cell_type": "code",
   "execution_count": 23,
   "metadata": {},
   "outputs": [],
   "source": [
    "# seed 값 설정\n",
    "seed = 0\n",
    "np.random.seed(seed)\n",
    "tf.random.set_seed(seed)"
   ]
  },
  {
   "cell_type": "code",
   "execution_count": 74,
   "metadata": {},
   "outputs": [],
   "source": [
    "# 데이터 불러오기\n",
    "(X_train, Y_train), (X_test, Y_test) = mnist.load_data()\n",
    "X_train = X_train.reshape(X_train.shape[0], 784).astype('float32') / 255 \n",
    "X_test = X_test.reshape(X_test.shape[0], 784).astype('float32') / 255 \n",
    "Y_train = tf.keras.utils.to_categorical(Y_train)\n",
    "Y_test = tf.keras.utils.to_categorical(Y_test)"
   ]
  },
  {
   "cell_type": "code",
   "execution_count": 89,
   "metadata": {},
   "outputs": [
    {
     "name": "stdout",
     "output_type": "stream",
     "text": [
      "Model: \"sequential_11\"\n",
      "_________________________________________________________________\n",
      "Layer (type)                 Output Shape              Param #   \n",
      "=================================================================\n",
      "dense_44 (Dense)             (None, 512)               401920    \n",
      "_________________________________________________________________\n",
      "dense_45 (Dense)             (None, 300)               153900    \n",
      "_________________________________________________________________\n",
      "dense_46 (Dense)             (None, 119)               35819     \n",
      "_________________________________________________________________\n",
      "dense_47 (Dense)             (None, 10)                1200      \n",
      "=================================================================\n",
      "Total params: 592,839\n",
      "Trainable params: 592,839\n",
      "Non-trainable params: 0\n",
      "_________________________________________________________________\n"
     ]
    }
   ],
   "source": [
    "# 컨볼루션 신경망 설정\n",
    "model = Sequential([\n",
    "    Dense(512, input_dim =784, activation='relu'),\n",
    "    Dense(300, activation='relu'),\n",
    "    Dense(119, activation='relu'),\n",
    "    Dense(10, activation='softmax')\n",
    "])\n",
    "model.summary()"
   ]
  },
  {
   "cell_type": "code",
   "execution_count": 90,
   "metadata": {},
   "outputs": [],
   "source": [
    "model.compile(loss='categorical_crossentropy',\n",
    "              optimizer='adam',\n",
    "              metrics=['accuracy'])"
   ]
  },
  {
   "cell_type": "code",
   "execution_count": 91,
   "metadata": {},
   "outputs": [],
   "source": [
    "# 모델 최적화 설정\n",
    "MODEL_DIR = './model/'\n",
    "if not os.path.exists(MODEL_DIR):\n",
    "    os.mkdir(MODEL_DIR)"
   ]
  },
  {
   "cell_type": "code",
   "execution_count": 92,
   "metadata": {},
   "outputs": [],
   "source": [
    "modelpath = MODEL_DIR + \"mnist-cnn-{epoch:02d}-{val_loss:.4f}.hdf5\"\n",
    "checkpointer = ModelCheckpoint(filepath=modelpath, monitor='val_loss', \n",
    "                               verbose=1, save_best_only=True)\n",
    "early_stopping_callback = EarlyStopping(monitor='val_loss', patience=20)"
   ]
  },
  {
   "cell_type": "code",
   "execution_count": 93,
   "metadata": {
    "scrolled": true
   },
   "outputs": [
    {
     "name": "stdout",
     "output_type": "stream",
     "text": [
      "Train on 60000 samples, validate on 10000 samples\n",
      "Epoch 1/30\n",
      "\n",
      "Epoch 00001: val_loss improved from inf to 0.14909, saving model to ./model/mnist-cnn-01-0.1491.hdf5\n",
      "60000/60000 - 1s - loss: 0.3607 - accuracy: 0.8964 - val_loss: 0.1491 - val_accuracy: 0.9554\n",
      "Epoch 2/30\n",
      "\n",
      "Epoch 00002: val_loss improved from 0.14909 to 0.09789, saving model to ./model/mnist-cnn-02-0.0979.hdf5\n",
      "60000/60000 - 1s - loss: 0.1189 - accuracy: 0.9643 - val_loss: 0.0979 - val_accuracy: 0.9690\n",
      "Epoch 3/30\n",
      "\n",
      "Epoch 00003: val_loss improved from 0.09789 to 0.08872, saving model to ./model/mnist-cnn-03-0.0887.hdf5\n",
      "60000/60000 - 1s - loss: 0.0740 - accuracy: 0.9771 - val_loss: 0.0887 - val_accuracy: 0.9723\n",
      "Epoch 4/30\n",
      "\n",
      "Epoch 00004: val_loss improved from 0.08872 to 0.07437, saving model to ./model/mnist-cnn-04-0.0744.hdf5\n",
      "60000/60000 - 1s - loss: 0.0515 - accuracy: 0.9840 - val_loss: 0.0744 - val_accuracy: 0.9771\n",
      "Epoch 5/30\n",
      "\n",
      "Epoch 00005: val_loss improved from 0.07437 to 0.06846, saving model to ./model/mnist-cnn-05-0.0685.hdf5\n",
      "60000/60000 - 1s - loss: 0.0364 - accuracy: 0.9887 - val_loss: 0.0685 - val_accuracy: 0.9792\n",
      "Epoch 6/30\n",
      "\n",
      "Epoch 00006: val_loss did not improve from 0.06846\n",
      "60000/60000 - 1s - loss: 0.0275 - accuracy: 0.9916 - val_loss: 0.0742 - val_accuracy: 0.9775\n",
      "Epoch 7/30\n",
      "\n",
      "Epoch 00007: val_loss improved from 0.06846 to 0.06748, saving model to ./model/mnist-cnn-07-0.0675.hdf5\n",
      "60000/60000 - 1s - loss: 0.0195 - accuracy: 0.9940 - val_loss: 0.0675 - val_accuracy: 0.9797\n",
      "Epoch 8/30\n",
      "\n",
      "Epoch 00008: val_loss improved from 0.06748 to 0.06437, saving model to ./model/mnist-cnn-08-0.0644.hdf5\n",
      "60000/60000 - 1s - loss: 0.0152 - accuracy: 0.9957 - val_loss: 0.0644 - val_accuracy: 0.9814\n",
      "Epoch 9/30\n",
      "\n",
      "Epoch 00009: val_loss improved from 0.06437 to 0.06069, saving model to ./model/mnist-cnn-09-0.0607.hdf5\n",
      "60000/60000 - 1s - loss: 0.0112 - accuracy: 0.9967 - val_loss: 0.0607 - val_accuracy: 0.9840\n",
      "Epoch 10/30\n",
      "\n",
      "Epoch 00010: val_loss did not improve from 0.06069\n",
      "60000/60000 - 1s - loss: 0.0087 - accuracy: 0.9975 - val_loss: 0.0724 - val_accuracy: 0.9813\n",
      "Epoch 11/30\n",
      "\n",
      "Epoch 00011: val_loss did not improve from 0.06069\n",
      "60000/60000 - 1s - loss: 0.0106 - accuracy: 0.9966 - val_loss: 0.0702 - val_accuracy: 0.9806\n",
      "Epoch 12/30\n",
      "\n",
      "Epoch 00012: val_loss did not improve from 0.06069\n",
      "60000/60000 - 1s - loss: 0.0073 - accuracy: 0.9979 - val_loss: 0.0703 - val_accuracy: 0.9825\n",
      "Epoch 13/30\n",
      "\n",
      "Epoch 00013: val_loss did not improve from 0.06069\n",
      "60000/60000 - 1s - loss: 0.0076 - accuracy: 0.9975 - val_loss: 0.0841 - val_accuracy: 0.9780\n",
      "Epoch 14/30\n",
      "\n",
      "Epoch 00014: val_loss did not improve from 0.06069\n",
      "60000/60000 - 1s - loss: 0.0071 - accuracy: 0.9977 - val_loss: 0.0738 - val_accuracy: 0.9817\n",
      "Epoch 15/30\n",
      "\n",
      "Epoch 00015: val_loss did not improve from 0.06069\n",
      "60000/60000 - 1s - loss: 0.0067 - accuracy: 0.9977 - val_loss: 0.0957 - val_accuracy: 0.9787\n",
      "Epoch 16/30\n",
      "\n",
      "Epoch 00016: val_loss did not improve from 0.06069\n",
      "60000/60000 - 1s - loss: 0.0116 - accuracy: 0.9961 - val_loss: 0.0887 - val_accuracy: 0.9799\n",
      "Epoch 17/30\n",
      "\n",
      "Epoch 00017: val_loss did not improve from 0.06069\n",
      "60000/60000 - 1s - loss: 0.0082 - accuracy: 0.9973 - val_loss: 0.0786 - val_accuracy: 0.9807\n",
      "Epoch 18/30\n",
      "\n",
      "Epoch 00018: val_loss did not improve from 0.06069\n",
      "60000/60000 - 1s - loss: 0.0031 - accuracy: 0.9991 - val_loss: 0.0720 - val_accuracy: 0.9828\n",
      "Epoch 19/30\n",
      "\n",
      "Epoch 00019: val_loss did not improve from 0.06069\n",
      "60000/60000 - 1s - loss: 0.0011 - accuracy: 0.9998 - val_loss: 0.0719 - val_accuracy: 0.9845\n",
      "Epoch 20/30\n",
      "\n",
      "Epoch 00020: val_loss did not improve from 0.06069\n",
      "60000/60000 - 1s - loss: 3.9153e-04 - accuracy: 0.9999 - val_loss: 0.0724 - val_accuracy: 0.9853\n",
      "Epoch 21/30\n",
      "\n",
      "Epoch 00021: val_loss did not improve from 0.06069\n",
      "60000/60000 - 1s - loss: 2.7442e-04 - accuracy: 0.9999 - val_loss: 0.0710 - val_accuracy: 0.9845\n",
      "Epoch 22/30\n",
      "\n",
      "Epoch 00022: val_loss did not improve from 0.06069\n",
      "60000/60000 - 1s - loss: 8.5626e-04 - accuracy: 0.9997 - val_loss: 0.0814 - val_accuracy: 0.9825\n",
      "Epoch 23/30\n",
      "\n",
      "Epoch 00023: val_loss did not improve from 0.06069\n",
      "60000/60000 - 1s - loss: 4.5783e-04 - accuracy: 0.9999 - val_loss: 0.0753 - val_accuracy: 0.9841\n",
      "Epoch 24/30\n",
      "\n",
      "Epoch 00024: val_loss did not improve from 0.06069\n",
      "60000/60000 - 1s - loss: 1.1226e-04 - accuracy: 1.0000 - val_loss: 0.0733 - val_accuracy: 0.9849\n",
      "Epoch 25/30\n",
      "\n",
      "Epoch 00025: val_loss did not improve from 0.06069\n",
      "60000/60000 - 1s - loss: 7.1893e-05 - accuracy: 1.0000 - val_loss: 0.0745 - val_accuracy: 0.9853\n",
      "Epoch 26/30\n",
      "\n",
      "Epoch 00026: val_loss did not improve from 0.06069\n",
      "60000/60000 - 1s - loss: 4.4311e-05 - accuracy: 1.0000 - val_loss: 0.0751 - val_accuracy: 0.9855\n",
      "Epoch 27/30\n",
      "\n",
      "Epoch 00027: val_loss did not improve from 0.06069\n",
      "60000/60000 - 1s - loss: 3.7811e-05 - accuracy: 1.0000 - val_loss: 0.0758 - val_accuracy: 0.9854\n",
      "Epoch 28/30\n",
      "\n",
      "Epoch 00028: val_loss did not improve from 0.06069\n",
      "60000/60000 - 1s - loss: 3.3138e-05 - accuracy: 1.0000 - val_loss: 0.0766 - val_accuracy: 0.9856\n",
      "Epoch 29/30\n",
      "\n",
      "Epoch 00029: val_loss did not improve from 0.06069\n",
      "60000/60000 - 1s - loss: 2.9552e-05 - accuracy: 1.0000 - val_loss: 0.0770 - val_accuracy: 0.9858\n"
     ]
    }
   ],
   "source": [
    "# 모델의 실행\n",
    "history = model.fit(X_train, Y_train, validation_data=(X_test, Y_test), epochs=30,\n",
    "                    batch_size=500, verbose=2, \n",
    "                    callbacks=[early_stopping_callback, checkpointer])"
   ]
  },
  {
   "cell_type": "code",
   "execution_count": 94,
   "metadata": {},
   "outputs": [],
   "source": [
    "from tensorflow.keras.models import load_model\n",
    "del model\n",
    "model = load_model('model/mnist-cnn-09-0.0607.hdf5')"
   ]
  },
  {
   "cell_type": "code",
   "execution_count": 95,
   "metadata": {
    "scrolled": true
   },
   "outputs": [
    {
     "name": "stdout",
     "output_type": "stream",
     "text": [
      "\n",
      " Test Accuracy: 0.9840\n"
     ]
    }
   ],
   "source": [
    "# 테스트 정확도 출력 \n",
    "print(\"\\n Test Accuracy: %.4f\" % (model.evaluate(X_test, Y_test, verbose=0)[1]))"
   ]
  },
  {
   "cell_type": "markdown",
   "metadata": {},
   "source": [
    "### 결론: Best Model은 Epoch 9, 정확도는 98.40%"
   ]
  },
  {
   "cell_type": "markdown",
   "metadata": {},
   "source": [
    "# 이미지 인식 - CNN"
   ]
  },
  {
   "cell_type": "code",
   "execution_count": 96,
   "metadata": {},
   "outputs": [],
   "source": [
    "# 데이터 불러오기\n",
    "(X_train, Y_train), (X_test, Y_test) = mnist.load_data()\n",
    "X_train = X_train.reshape(X_train.shape[0], 28, 28, 1).astype('float32') / 255\n",
    "X_test = X_test.reshape(X_test.shape[0], 28, 28, 1).astype('float32') / 255\n",
    "Y_train = tf.keras.utils.to_categorical(Y_train)\n",
    "Y_test = tf.keras.utils.to_categorical(Y_test)"
   ]
  },
  {
   "cell_type": "code",
   "execution_count": 115,
   "metadata": {},
   "outputs": [
    {
     "name": "stdout",
     "output_type": "stream",
     "text": [
      "Model: \"sequential_14\"\n",
      "_________________________________________________________________\n",
      "Layer (type)                 Output Shape              Param #   \n",
      "=================================================================\n",
      "conv2d_4 (Conv2D)            (None, 26, 26, 32)        320       \n",
      "_________________________________________________________________\n",
      "conv2d_5 (Conv2D)            (None, 24, 24, 64)        18496     \n",
      "_________________________________________________________________\n",
      "max_pooling2d_2 (MaxPooling2 (None, 12, 12, 64)        0         \n",
      "_________________________________________________________________\n",
      "dropout_4 (Dropout)          (None, 12, 12, 64)        0         \n",
      "_________________________________________________________________\n",
      "flatten_2 (Flatten)          (None, 9216)              0         \n",
      "_________________________________________________________________\n",
      "dense_53 (Dense)             (None, 512)               4719104   \n",
      "_________________________________________________________________\n",
      "dense_54 (Dense)             (None, 256)               131328    \n",
      "_________________________________________________________________\n",
      "dropout_5 (Dropout)          (None, 256)               0         \n",
      "_________________________________________________________________\n",
      "dense_55 (Dense)             (None, 10)                2570      \n",
      "=================================================================\n",
      "Total params: 4,871,818\n",
      "Trainable params: 4,871,818\n",
      "Non-trainable params: 0\n",
      "_________________________________________________________________\n"
     ]
    }
   ],
   "source": [
    "# 컨볼루션 신경망 설정\n",
    "model = Sequential([\n",
    "    Conv2D(32, kernel_size=(3, 3), input_shape=(28, 28, 1), activation='relu'),\n",
    "    Conv2D(64, (3, 3), activation='relu'),\n",
    "    MaxPooling2D(pool_size=2),\n",
    "    Dropout(0.5),\n",
    "    Flatten(),\n",
    "    Dense(512, activation='relu'),\n",
    "    Dense(256, activation='relu'),\n",
    "    Dropout(0.5),\n",
    "    Dense(10, activation='softmax')\n",
    "])\n",
    "model.summary()"
   ]
  },
  {
   "cell_type": "code",
   "execution_count": 116,
   "metadata": {},
   "outputs": [],
   "source": [
    "model.compile(loss='categorical_crossentropy',\n",
    "              optimizer='adam',\n",
    "              metrics=['accuracy'])"
   ]
  },
  {
   "cell_type": "code",
   "execution_count": 117,
   "metadata": {},
   "outputs": [],
   "source": [
    "# 모델 최적화 설정\n",
    "MODEL_DIR = './model2/'\n",
    "if not os.path.exists(MODEL_DIR):\n",
    "    os.mkdir(MODEL_DIR)"
   ]
  },
  {
   "cell_type": "code",
   "execution_count": 118,
   "metadata": {},
   "outputs": [],
   "source": [
    "modelpath = MODEL_DIR + \"mnist-cnn-{epoch:02d}-{val_loss:.4f}.hdf5\"\n",
    "checkpointer = ModelCheckpoint(filepath=modelpath, monitor='val_loss', \n",
    "                               verbose=1, save_best_only=True)\n",
    "early_stopping_callback = EarlyStopping(monitor='val_loss', patience=10)"
   ]
  },
  {
   "cell_type": "code",
   "execution_count": 119,
   "metadata": {
    "scrolled": true
   },
   "outputs": [
    {
     "name": "stdout",
     "output_type": "stream",
     "text": [
      "Train on 60000 samples, validate on 10000 samples\n",
      "Epoch 1/40\n",
      "\n",
      "Epoch 00001: val_loss improved from inf to 0.05754, saving model to ./model2/mnist-cnn-01-0.0575.hdf5\n",
      "60000/60000 - 46s - loss: 0.3203 - accuracy: 0.9000 - val_loss: 0.0575 - val_accuracy: 0.9826\n",
      "Epoch 2/40\n",
      "\n",
      "Epoch 00002: val_loss improved from 0.05754 to 0.03884, saving model to ./model2/mnist-cnn-02-0.0388.hdf5\n",
      "60000/60000 - 45s - loss: 0.0761 - accuracy: 0.9774 - val_loss: 0.0388 - val_accuracy: 0.9870\n",
      "Epoch 3/40\n",
      "\n",
      "Epoch 00003: val_loss improved from 0.03884 to 0.03349, saving model to ./model2/mnist-cnn-03-0.0335.hdf5\n",
      "60000/60000 - 45s - loss: 0.0509 - accuracy: 0.9849 - val_loss: 0.0335 - val_accuracy: 0.9892\n",
      "Epoch 4/40\n",
      "\n",
      "Epoch 00004: val_loss improved from 0.03349 to 0.02782, saving model to ./model2/mnist-cnn-04-0.0278.hdf5\n",
      "60000/60000 - 45s - loss: 0.0382 - accuracy: 0.9882 - val_loss: 0.0278 - val_accuracy: 0.9908\n",
      "Epoch 5/40\n",
      "\n",
      "Epoch 00005: val_loss did not improve from 0.02782\n",
      "60000/60000 - 45s - loss: 0.0313 - accuracy: 0.9904 - val_loss: 0.0334 - val_accuracy: 0.9890\n",
      "Epoch 6/40\n",
      "\n",
      "Epoch 00006: val_loss did not improve from 0.02782\n",
      "60000/60000 - 45s - loss: 0.0273 - accuracy: 0.9914 - val_loss: 0.0333 - val_accuracy: 0.9896\n",
      "Epoch 7/40\n",
      "\n",
      "Epoch 00007: val_loss did not improve from 0.02782\n",
      "60000/60000 - 45s - loss: 0.0217 - accuracy: 0.9930 - val_loss: 0.0291 - val_accuracy: 0.9903\n",
      "Epoch 8/40\n",
      "\n",
      "Epoch 00008: val_loss did not improve from 0.02782\n",
      "60000/60000 - 45s - loss: 0.0179 - accuracy: 0.9944 - val_loss: 0.0296 - val_accuracy: 0.9912\n",
      "Epoch 9/40\n",
      "\n",
      "Epoch 00009: val_loss improved from 0.02782 to 0.02663, saving model to ./model2/mnist-cnn-09-0.0266.hdf5\n",
      "60000/60000 - 45s - loss: 0.0163 - accuracy: 0.9948 - val_loss: 0.0266 - val_accuracy: 0.9919\n",
      "Epoch 10/40\n",
      "\n",
      "Epoch 00010: val_loss did not improve from 0.02663\n",
      "60000/60000 - 45s - loss: 0.0147 - accuracy: 0.9953 - val_loss: 0.0285 - val_accuracy: 0.9917\n",
      "Epoch 11/40\n",
      "\n",
      "Epoch 00011: val_loss did not improve from 0.02663\n",
      "60000/60000 - 46s - loss: 0.0115 - accuracy: 0.9962 - val_loss: 0.0276 - val_accuracy: 0.9924\n",
      "Epoch 12/40\n",
      "\n",
      "Epoch 00012: val_loss improved from 0.02663 to 0.02405, saving model to ./model2/mnist-cnn-12-0.0241.hdf5\n",
      "60000/60000 - 44s - loss: 0.0121 - accuracy: 0.9961 - val_loss: 0.0241 - val_accuracy: 0.9929\n",
      "Epoch 13/40\n",
      "\n",
      "Epoch 00013: val_loss did not improve from 0.02405\n",
      "60000/60000 - 43s - loss: 0.0107 - accuracy: 0.9966 - val_loss: 0.0307 - val_accuracy: 0.9915\n",
      "Epoch 14/40\n",
      "\n",
      "Epoch 00014: val_loss did not improve from 0.02405\n",
      "60000/60000 - 43s - loss: 0.0105 - accuracy: 0.9965 - val_loss: 0.0299 - val_accuracy: 0.9917\n",
      "Epoch 15/40\n",
      "\n",
      "Epoch 00015: val_loss did not improve from 0.02405\n",
      "60000/60000 - 43s - loss: 0.0078 - accuracy: 0.9975 - val_loss: 0.0291 - val_accuracy: 0.9923\n",
      "Epoch 16/40\n",
      "\n",
      "Epoch 00016: val_loss did not improve from 0.02405\n",
      "60000/60000 - 43s - loss: 0.0080 - accuracy: 0.9976 - val_loss: 0.0362 - val_accuracy: 0.9926\n",
      "Epoch 17/40\n",
      "\n",
      "Epoch 00017: val_loss did not improve from 0.02405\n",
      "60000/60000 - 43s - loss: 0.0082 - accuracy: 0.9973 - val_loss: 0.0317 - val_accuracy: 0.9925\n",
      "Epoch 18/40\n",
      "\n",
      "Epoch 00018: val_loss did not improve from 0.02405\n",
      "60000/60000 - 44s - loss: 0.0065 - accuracy: 0.9978 - val_loss: 0.0355 - val_accuracy: 0.9934\n",
      "Epoch 19/40\n",
      "\n",
      "Epoch 00019: val_loss did not improve from 0.02405\n",
      "60000/60000 - 43s - loss: 0.0063 - accuracy: 0.9979 - val_loss: 0.0303 - val_accuracy: 0.9932\n",
      "Epoch 20/40\n",
      "\n",
      "Epoch 00020: val_loss did not improve from 0.02405\n",
      "60000/60000 - 43s - loss: 0.0075 - accuracy: 0.9974 - val_loss: 0.0285 - val_accuracy: 0.9931\n",
      "Epoch 21/40\n",
      "\n",
      "Epoch 00021: val_loss did not improve from 0.02405\n",
      "60000/60000 - 44s - loss: 0.0053 - accuracy: 0.9983 - val_loss: 0.0331 - val_accuracy: 0.9922\n",
      "Epoch 22/40\n",
      "\n",
      "Epoch 00022: val_loss did not improve from 0.02405\n",
      "60000/60000 - 43s - loss: 0.0064 - accuracy: 0.9980 - val_loss: 0.0371 - val_accuracy: 0.9909\n"
     ]
    }
   ],
   "source": [
    "# 모델의 실행\n",
    "history = model.fit(X_train, Y_train, validation_data=(X_test, Y_test), epochs=40,\n",
    "                    batch_size=500, verbose=2, \n",
    "                    callbacks=[early_stopping_callback, checkpointer])"
   ]
  },
  {
   "cell_type": "code",
   "execution_count": 120,
   "metadata": {},
   "outputs": [],
   "source": [
    "from tensorflow.keras.models import load_model\n",
    "del model\n",
    "model = load_model('model2/mnist-cnn-12-0.0241.hdf5')"
   ]
  },
  {
   "cell_type": "code",
   "execution_count": 121,
   "metadata": {},
   "outputs": [
    {
     "name": "stdout",
     "output_type": "stream",
     "text": [
      "\n",
      " Test Accuracy: 0.9929\n"
     ]
    }
   ],
   "source": [
    "# 테스트 정확도 출력 \n",
    "print(\"\\n Test Accuracy: %.4f\" % (model.evaluate(X_test, Y_test, verbose=0)[1]))"
   ]
  },
  {
   "cell_type": "markdown",
   "metadata": {},
   "source": [
    "### 결론: Best Model은 Epoch 11, 정확도는 99.29%"
   ]
  }
 ],
 "metadata": {
  "kernelspec": {
   "display_name": "Python 3",
   "language": "python",
   "name": "python3"
  },
  "language_info": {
   "codemirror_mode": {
    "name": "ipython",
    "version": 3
   },
   "file_extension": ".py",
   "mimetype": "text/x-python",
   "name": "python",
   "nbconvert_exporter": "python",
   "pygments_lexer": "ipython3",
   "version": "3.7.7"
  }
 },
 "nbformat": 4,
 "nbformat_minor": 2
}
