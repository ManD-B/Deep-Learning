{
 "cells": [
  {
   "cell_type": "code",
   "execution_count": 21,
   "metadata": {},
   "outputs": [],
   "source": [
    "import pandas as pd\n",
    "from pandas import DataFrame, Series\n",
    "import requests as re\n",
    "from bs4 import BeautifulSoup\n",
    "import datetime as date\n",
    "import time"
   ]
  },
  {
   "cell_type": "code",
   "execution_count": 22,
   "metadata": {},
   "outputs": [],
   "source": [
    "folder_adress = 'D:\\Workspace\\Deep-Learning\\data'"
   ]
  },
  {
   "cell_type": "code",
   "execution_count": 25,
   "metadata": {},
   "outputs": [],
   "source": [
    "def market_index_crawling():\n",
    "    Data = DataFrame()\n",
    "    \n",
    "    url_dict = {'국제 금':'http://finance.naver.com/marketindex/goldDailyQuote.nhn?marketindexCd=CMDT_GC&fdtc=2'}\n",
    "\n",
    "    for key in url_dict.keys():\n",
    "    \n",
    "        date = []\n",
    "        value = []\n",
    "\n",
    "        for i in range(1,1000):\n",
    "            url = re.get(url_dict[key] + '&page=%s'%i)\n",
    "            url = url.content\n",
    "\n",
    "            html = BeautifulSoup(url,'html.parser')\n",
    "\n",
    "            tbody = html.find('tbody')\n",
    "            tr = tbody.find_all('tr')\n",
    "            \n",
    "            \n",
    "            '''마지막 페이지 까지 받기'''\n",
    "            if len(tbody.text.strip()) > 3:\n",
    "                \n",
    "                for r in tr:\n",
    "                    temp_date = r.find('td',{'class':'date'}).text.replace('.','-').strip()\n",
    "                    temp_value = r.find('td',{'class':'num'}).text.strip()\n",
    "            \n",
    "                    date.append(temp_date)\n",
    "                    value.append(temp_value)\n",
    "            else:\n",
    "\n",
    "                temp = DataFrame(value, index = date, columns = [key])\n",
    "                \n",
    "                Data = pd.merge(Data,temp, how='outer', left_index=True, right_index=True)        \n",
    "                \n",
    "                print(key + '자료 수집 완료')\n",
    "                time.sleep(10)\n",
    "                break\n",
    "\n",
    "    Data.to_csv('%s/gold_market_index.csv'%(folder_adress))\n",
    "    return Data"
   ]
  },
  {
   "cell_type": "code",
   "execution_count": 26,
   "metadata": {},
   "outputs": [
    {
     "name": "stdout",
     "output_type": "stream",
     "text": [
      "국제 금자료 수집 완료\n"
     ]
    }
   ],
   "source": [
    "K = market_index_crawling()"
   ]
  },
  {
   "cell_type": "code",
   "execution_count": 17,
   "metadata": {},
   "outputs": [],
   "source": [
    "soup = BeautifulSoup(url_Open(url_base, url_sub), 'html.parser')"
   ]
  },
  {
   "cell_type": "code",
   "execution_count": null,
   "metadata": {},
   "outputs": [],
   "source": []
  },
  {
   "cell_type": "code",
   "execution_count": 8,
   "metadata": {},
   "outputs": [],
   "source": [
    "url = 'https://spot.wooribank.com/pot/Dream?withyou=POGLD0006'\n",
    "page = urlopen(url)\n",
    "\n",
    "soup = BeautifulSoup(page, 'html.parser')"
   ]
  },
  {
   "cell_type": "code",
   "execution_count": null,
   "metadata": {},
   "outputs": [],
   "source": []
  },
  {
   "cell_type": "code",
   "execution_count": 11,
   "metadata": {
    "scrolled": true
   },
   "outputs": [
    {
     "data": {
      "text/plain": [
       "[]"
      ]
     },
     "execution_count": 11,
     "metadata": {},
     "output_type": "execute_result"
    }
   ],
   "source": [
    "number = soup.find_all(class_=\"clearfix ui-set-accessibility\")\n",
    "number"
   ]
  },
  {
   "cell_type": "code",
   "execution_count": null,
   "metadata": {},
   "outputs": [],
   "source": []
  },
  {
   "cell_type": "code",
   "execution_count": null,
   "metadata": {},
   "outputs": [],
   "source": []
  },
  {
   "cell_type": "code",
   "execution_count": null,
   "metadata": {},
   "outputs": [],
   "source": [
    "store = []\n",
    "for a in number:\n",
    "    store.append(a.find(class_='btxt').get_text()[3:])\n",
    "print(store)"
   ]
  },
  {
   "cell_type": "code",
   "execution_count": null,
   "metadata": {},
   "outputs": [],
   "source": [
    "show_stores = pd.DataFrame({'갈마동 맛집순위' : store})"
   ]
  },
  {
   "cell_type": "code",
   "execution_count": null,
   "metadata": {},
   "outputs": [],
   "source": []
  },
  {
   "cell_type": "code",
   "execution_count": null,
   "metadata": {},
   "outputs": [],
   "source": []
  }
 ],
 "metadata": {
  "kernelspec": {
   "display_name": "Python 3",
   "language": "python",
   "name": "python3"
  },
  "language_info": {
   "codemirror_mode": {
    "name": "ipython",
    "version": 3
   },
   "file_extension": ".py",
   "mimetype": "text/x-python",
   "name": "python",
   "nbconvert_exporter": "python",
   "pygments_lexer": "ipython3",
   "version": "3.7.6"
  }
 },
 "nbformat": 4,
 "nbformat_minor": 4
}
