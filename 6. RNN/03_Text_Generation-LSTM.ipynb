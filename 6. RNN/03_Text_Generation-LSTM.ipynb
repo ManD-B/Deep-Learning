{
 "cells": [
  {
   "cell_type": "markdown",
   "metadata": {},
   "source": [
    "## 1. 데이터 전처리"
   ]
  },
  {
   "cell_type": "code",
   "execution_count": 98,
   "metadata": {},
   "outputs": [],
   "source": [
    "import numpy as np\n",
    "import pandas as pd\n",
    "from string import punctuation\n",
    "\n",
    "from tensorflow import keras\n",
    "from keras.preprocessing.text import Tokenizer\n",
    "from keras.preprocessing.sequence import pad_sequences\n",
    "from keras.utils import to_categorical"
   ]
  },
  {
   "cell_type": "code",
   "execution_count": 99,
   "metadata": {},
   "outputs": [
    {
     "data": {
      "text/html": [
       "<div>\n",
       "<style scoped>\n",
       "    .dataframe tbody tr th:only-of-type {\n",
       "        vertical-align: middle;\n",
       "    }\n",
       "\n",
       "    .dataframe tbody tr th {\n",
       "        vertical-align: top;\n",
       "    }\n",
       "\n",
       "    .dataframe thead th {\n",
       "        text-align: right;\n",
       "    }\n",
       "</style>\n",
       "<table border=\"1\" class=\"dataframe\">\n",
       "  <thead>\n",
       "    <tr style=\"text-align: right;\">\n",
       "      <th></th>\n",
       "      <th>abstract</th>\n",
       "      <th>articleID</th>\n",
       "      <th>articleWordCount</th>\n",
       "      <th>byline</th>\n",
       "      <th>documentType</th>\n",
       "      <th>headline</th>\n",
       "      <th>keywords</th>\n",
       "      <th>multimedia</th>\n",
       "      <th>newDesk</th>\n",
       "      <th>printPage</th>\n",
       "      <th>pubDate</th>\n",
       "      <th>sectionName</th>\n",
       "      <th>snippet</th>\n",
       "      <th>source</th>\n",
       "      <th>typeOfMaterial</th>\n",
       "      <th>webURL</th>\n",
       "    </tr>\n",
       "  </thead>\n",
       "  <tbody>\n",
       "    <tr>\n",
       "      <th>0</th>\n",
       "      <td>NaN</td>\n",
       "      <td>5906b3197c459f24986dd003</td>\n",
       "      <td>2412</td>\n",
       "      <td>By IAN JOHNSON</td>\n",
       "      <td>article</td>\n",
       "      <td>My Beijing: The Sacred City</td>\n",
       "      <td>['Travel and Vacations', 'Beijing (China)', 'R...</td>\n",
       "      <td>3</td>\n",
       "      <td>Travel</td>\n",
       "      <td>1</td>\n",
       "      <td>2017-05-01 04:01:21</td>\n",
       "      <td>Unknown</td>\n",
       "      <td>This metropolis was once a total work of art, ...</td>\n",
       "      <td>The New York Times</td>\n",
       "      <td>News</td>\n",
       "      <td>https://www.nytimes.com/2017/05/01/travel/beij...</td>\n",
       "    </tr>\n",
       "    <tr>\n",
       "      <th>1</th>\n",
       "      <td>NaN</td>\n",
       "      <td>5906b3297c459f24986dd004</td>\n",
       "      <td>2318</td>\n",
       "      <td>By EMMA G. FITZSIMMONS</td>\n",
       "      <td>article</td>\n",
       "      <td>6 Million Riders a Day, 1930s Technology</td>\n",
       "      <td>['Subways', 'Delays (Transportation)', 'Transi...</td>\n",
       "      <td>68</td>\n",
       "      <td>Metro</td>\n",
       "      <td>1</td>\n",
       "      <td>2017-05-01 04:01:33</td>\n",
       "      <td>Unknown</td>\n",
       "      <td>New York’s subway is struggling with old infra...</td>\n",
       "      <td>The New York Times</td>\n",
       "      <td>News</td>\n",
       "      <td>https://www.nytimes.com/2017/05/01/nyregion/ne...</td>\n",
       "    </tr>\n",
       "    <tr>\n",
       "      <th>2</th>\n",
       "      <td>NaN</td>\n",
       "      <td>5906ceec7c459f24986dd021</td>\n",
       "      <td>1795</td>\n",
       "      <td>By MARC TRACY</td>\n",
       "      <td>article</td>\n",
       "      <td>Seeking a Cross-Border Conference</td>\n",
       "      <td>['Cetys University', 'College Athletics', 'Nat...</td>\n",
       "      <td>3</td>\n",
       "      <td>Sports</td>\n",
       "      <td>1</td>\n",
       "      <td>2017-05-01 06:00:05</td>\n",
       "      <td>Unknown</td>\n",
       "      <td>Cetys University is making an ambitious bid to...</td>\n",
       "      <td>The New York Times</td>\n",
       "      <td>News</td>\n",
       "      <td>https://www.nytimes.com/2017/05/01/sports/mexi...</td>\n",
       "    </tr>\n",
       "    <tr>\n",
       "      <th>3</th>\n",
       "      <td>NaN</td>\n",
       "      <td>5906cfa77c459f24986dd022</td>\n",
       "      <td>213</td>\n",
       "      <td>By SHANNON DOYNE</td>\n",
       "      <td>article</td>\n",
       "      <td>Questions for: ‘Despite the “Yuck Factor,” Lee...</td>\n",
       "      <td>[]</td>\n",
       "      <td>3</td>\n",
       "      <td>Learning</td>\n",
       "      <td>0</td>\n",
       "      <td>2017-05-01 06:03:03</td>\n",
       "      <td>Unknown</td>\n",
       "      <td>How are leeches used to treat various medical ...</td>\n",
       "      <td>The New York Times</td>\n",
       "      <td>News</td>\n",
       "      <td>https://www.nytimes.com/2017/05/01/learning/qu...</td>\n",
       "    </tr>\n",
       "    <tr>\n",
       "      <th>4</th>\n",
       "      <td>NaN</td>\n",
       "      <td>5906e1c07c459f24986dd039</td>\n",
       "      <td>1342</td>\n",
       "      <td>By JASON STANLEY</td>\n",
       "      <td>article</td>\n",
       "      <td>Who Is a ‘Criminal’?</td>\n",
       "      <td>['Illegal Immigration', 'Traffic and Parking V...</td>\n",
       "      <td>3</td>\n",
       "      <td>OpEd</td>\n",
       "      <td>0</td>\n",
       "      <td>2017-05-01 07:20:26</td>\n",
       "      <td>Unknown</td>\n",
       "      <td>Justice Roberts was right. The Trump administr...</td>\n",
       "      <td>The New York Times</td>\n",
       "      <td>Op-Ed</td>\n",
       "      <td>https://www.nytimes.com/2017/05/01/opinion/who...</td>\n",
       "    </tr>\n",
       "  </tbody>\n",
       "</table>\n",
       "</div>"
      ],
      "text/plain": [
       "  abstract                 articleID  articleWordCount  \\\n",
       "0      NaN  5906b3197c459f24986dd003              2412   \n",
       "1      NaN  5906b3297c459f24986dd004              2318   \n",
       "2      NaN  5906ceec7c459f24986dd021              1795   \n",
       "3      NaN  5906cfa77c459f24986dd022               213   \n",
       "4      NaN  5906e1c07c459f24986dd039              1342   \n",
       "\n",
       "                   byline documentType  \\\n",
       "0          By IAN JOHNSON      article   \n",
       "1  By EMMA G. FITZSIMMONS      article   \n",
       "2           By MARC TRACY      article   \n",
       "3        By SHANNON DOYNE      article   \n",
       "4        By JASON STANLEY      article   \n",
       "\n",
       "                                            headline  \\\n",
       "0                        My Beijing: The Sacred City   \n",
       "1           6 Million Riders a Day, 1930s Technology   \n",
       "2                  Seeking a Cross-Border Conference   \n",
       "3  Questions for: ‘Despite the “Yuck Factor,” Lee...   \n",
       "4                               Who Is a ‘Criminal’?   \n",
       "\n",
       "                                            keywords  multimedia   newDesk  \\\n",
       "0  ['Travel and Vacations', 'Beijing (China)', 'R...           3    Travel   \n",
       "1  ['Subways', 'Delays (Transportation)', 'Transi...          68     Metro   \n",
       "2  ['Cetys University', 'College Athletics', 'Nat...           3    Sports   \n",
       "3                                                 []           3  Learning   \n",
       "4  ['Illegal Immigration', 'Traffic and Parking V...           3      OpEd   \n",
       "\n",
       "   printPage              pubDate sectionName  \\\n",
       "0          1  2017-05-01 04:01:21     Unknown   \n",
       "1          1  2017-05-01 04:01:33     Unknown   \n",
       "2          1  2017-05-01 06:00:05     Unknown   \n",
       "3          0  2017-05-01 06:03:03     Unknown   \n",
       "4          0  2017-05-01 07:20:26     Unknown   \n",
       "\n",
       "                                             snippet              source  \\\n",
       "0  This metropolis was once a total work of art, ...  The New York Times   \n",
       "1  New York’s subway is struggling with old infra...  The New York Times   \n",
       "2  Cetys University is making an ambitious bid to...  The New York Times   \n",
       "3  How are leeches used to treat various medical ...  The New York Times   \n",
       "4  Justice Roberts was right. The Trump administr...  The New York Times   \n",
       "\n",
       "  typeOfMaterial                                             webURL  \n",
       "0           News  https://www.nytimes.com/2017/05/01/travel/beij...  \n",
       "1           News  https://www.nytimes.com/2017/05/01/nyregion/ne...  \n",
       "2           News  https://www.nytimes.com/2017/05/01/sports/mexi...  \n",
       "3           News  https://www.nytimes.com/2017/05/01/learning/qu...  \n",
       "4          Op-Ed  https://www.nytimes.com/2017/05/01/opinion/who...  "
      ]
     },
     "execution_count": 99,
     "metadata": {},
     "output_type": "execute_result"
    }
   ],
   "source": [
    "df=pd.read_csv('data/ArticlesMay2017.csv')\n",
    "df.head()"
   ]
  },
  {
   "cell_type": "code",
   "execution_count": 100,
   "metadata": {},
   "outputs": [
    {
     "name": "stdout",
     "output_type": "stream",
     "text": [
      "열의 개수:  16\n",
      "Index(['abstract', 'articleID', 'articleWordCount', 'byline', 'documentType',\n",
      "       'headline', 'keywords', 'multimedia', 'newDesk', 'printPage', 'pubDate',\n",
      "       'sectionName', 'snippet', 'source', 'typeOfMaterial', 'webURL'],\n",
      "      dtype='object')\n"
     ]
    }
   ],
   "source": [
    "print('열의 개수: ', len(df.columns))\n",
    "print(df.columns)"
   ]
  },
  {
   "cell_type": "code",
   "execution_count": 101,
   "metadata": {},
   "outputs": [
    {
     "data": {
      "text/plain": [
       "False"
      ]
     },
     "execution_count": 101,
     "metadata": {},
     "output_type": "execute_result"
    }
   ],
   "source": [
    "# headline 열의 데이터만 사용, Null 검사\n",
    "df['headline'].isnull().values.any()"
   ]
  },
  {
   "cell_type": "code",
   "execution_count": 127,
   "metadata": {},
   "outputs": [
    {
     "data": {
      "text/plain": [
       "['My Beijing: The Sacred City',\n",
       " '6 Million Riders a Day, 1930s Technology',\n",
       " 'Seeking a Cross-Border Conference',\n",
       " 'Questions for: ‘Despite the “Yuck Factor,” Leeches Are Big in Russian Medicine’',\n",
       " 'Who Is a ‘Criminal’?']"
      ]
     },
     "execution_count": 127,
     "metadata": {},
     "output_type": "execute_result"
    }
   ],
   "source": [
    "# headline 열의 데이터로 리스트 생성\n",
    "headline = [title for title in df.headline.values]\n",
    "headline[:5]"
   ]
  },
  {
   "cell_type": "code",
   "execution_count": 128,
   "metadata": {},
   "outputs": [
    {
     "data": {
      "text/plain": [
       "996"
      ]
     },
     "execution_count": 128,
     "metadata": {},
     "output_type": "execute_result"
    }
   ],
   "source": [
    "len(headline)"
   ]
  },
  {
   "cell_type": "code",
   "execution_count": 129,
   "metadata": {},
   "outputs": [
    {
     "data": {
      "text/plain": [
       "935"
      ]
     },
     "execution_count": 129,
     "metadata": {},
     "output_type": "execute_result"
    }
   ],
   "source": [
    "# 노이즈 데이터('Unknown') 제거\n",
    "headline = [title for title in headline if title != 'Unknown']\n",
    "len(headline)"
   ]
  },
  {
   "cell_type": "code",
   "execution_count": 130,
   "metadata": {},
   "outputs": [],
   "source": [
    "import matplotlib as mpl\n",
    "import matplotlib.pyplot as plt\n",
    "mpl.rcParams['axes.unicode_minus'] = False    # minus 표시\n",
    "mpl.rc('font', family='Malgun Gothic')\n",
    "%matplotlib inline\n",
    "\n",
    "plt.rcParams[\"figure.figsize\"] = (10,6)\n",
    "plt.rcParams[\"font.size\"] = 14"
   ]
  },
  {
   "cell_type": "code",
   "execution_count": 131,
   "metadata": {},
   "outputs": [],
   "source": [
    "# 구두점 제거와 소문자화를 위한 함수\n",
    "def repreprocessing(s):\n",
    "    s=s.encode(\"utf8\").decode(\"ascii\",'ignore')\n",
    "    return ''.join(c for c in s if c not in punctuation).lower() "
   ]
  },
  {
   "cell_type": "code",
   "execution_count": 132,
   "metadata": {},
   "outputs": [
    {
     "data": {
      "text/plain": [
       "['my beijing the sacred city',\n",
       " '6 million riders a day 1930s technology',\n",
       " 'seeking a crossborder conference',\n",
       " 'questions for despite the yuck factor leeches are big in russian medicine',\n",
       " 'who is a criminal']"
      ]
     },
     "execution_count": 132,
     "metadata": {},
     "output_type": "execute_result"
    }
   ],
   "source": [
    "text = [repreprocessing(x) for x in headline]\n",
    "text[:5]"
   ]
  },
  {
   "cell_type": "code",
   "execution_count": 134,
   "metadata": {},
   "outputs": [
    {
     "name": "stdout",
     "output_type": "stream",
     "text": [
      "단어 집합의 크기 : 2653\n"
     ]
    }
   ],
   "source": [
    "# 단어 집합(vocabulary)을 만들고 크기를 확인\n",
    "t = Tokenizer()\n",
    "t.fit_on_texts(text)\n",
    "vocab_size = len(t.word_index) + 1\n",
    "print('단어 집합의 크기 : %d' % vocab_size)"
   ]
  },
  {
   "cell_type": "code",
   "execution_count": 135,
   "metadata": {},
   "outputs": [
    {
     "data": {
      "text/plain": [
       "[[48, 799],\n",
       " [48, 799, 1],\n",
       " [48, 799, 1, 800],\n",
       " [48, 799, 1, 800, 57],\n",
       " [114, 406],\n",
       " [114, 406, 407],\n",
       " [114, 406, 407, 2],\n",
       " [114, 406, 407, 2, 179],\n",
       " [114, 406, 407, 2, 179, 801],\n",
       " [114, 406, 407, 2, 179, 801, 802],\n",
       " [803, 2]]"
      ]
     },
     "execution_count": 135,
     "metadata": {},
     "output_type": "execute_result"
    }
   ],
   "source": [
    "sequences = []\n",
    "for line in text: # 1,214 개의 샘플에 대해서 샘플을 1개씩 가져온다.\n",
    "    encoded = t.texts_to_sequences([line])[0] # 각 샘플에 대한 정수 인코딩\n",
    "    for i in range(1, len(encoded)):\n",
    "        sequence = encoded[:i+1]\n",
    "        sequences.append(sequence)\n",
    "\n",
    "sequences[:11] # 11개의 샘플 출력"
   ]
  },
  {
   "cell_type": "code",
   "execution_count": 136,
   "metadata": {},
   "outputs": [
    {
     "name": "stdout",
     "output_type": "stream",
     "text": [
      "샘플의 최대 길이 : 16\n"
     ]
    }
   ],
   "source": [
    "max_len=max(len(s) for s in sequences)\n",
    "print('샘플의 최대 길이 :', max_len) "
   ]
  },
  {
   "cell_type": "code",
   "execution_count": 137,
   "metadata": {},
   "outputs": [
    {
     "name": "stdout",
     "output_type": "stream",
     "text": [
      "[[  0   0   0   0   0   0   0   0   0   0   0   0   0   0  48 799]\n",
      " [  0   0   0   0   0   0   0   0   0   0   0   0   0  48 799   1]\n",
      " [  0   0   0   0   0   0   0   0   0   0   0   0  48 799   1 800]]\n"
     ]
    }
   ],
   "source": [
    "# 전체 샘플의 길이를 24(가장 긴 샘플의 길이)로 패딩\n",
    "# 'pre' 옵션을 주면 앞을 0으로 패딩\n",
    "sequences = pad_sequences(sequences, maxlen=max_len)\n",
    "print(sequences[:3])"
   ]
  },
  {
   "cell_type": "code",
   "execution_count": 138,
   "metadata": {},
   "outputs": [],
   "source": [
    "X = sequences[:,:-1]\n",
    "y = sequences[:,-1]"
   ]
  },
  {
   "cell_type": "code",
   "execution_count": 139,
   "metadata": {},
   "outputs": [],
   "source": [
    "# 레이블 데이터 y에 대해서 원-핫 인코딩을 수행\n",
    "y = to_categorical(y, num_classes=vocab_size)"
   ]
  },
  {
   "cell_type": "code",
   "execution_count": 140,
   "metadata": {},
   "outputs": [
    {
     "data": {
      "text/plain": [
       "((5501, 15), (5501, 2653))"
      ]
     },
     "execution_count": 140,
     "metadata": {},
     "output_type": "execute_result"
    }
   ],
   "source": [
    "X.shape, y.shape"
   ]
  },
  {
   "cell_type": "markdown",
   "metadata": {},
   "source": [
    "## 2. 모델 설계 및 학습"
   ]
  },
  {
   "cell_type": "code",
   "execution_count": 141,
   "metadata": {},
   "outputs": [],
   "source": [
    "from tensorflow import keras\n",
    "from keras.models import Sequential\n",
    "from keras.layers import Embedding, Dense, LSTM"
   ]
  },
  {
   "cell_type": "code",
   "execution_count": 142,
   "metadata": {},
   "outputs": [],
   "source": [
    "# 임베딩 벡터는 10차원, 은닉 상태 크기는 128\n",
    "embedding = Embedding(vocab_size, 10, input_length=max_len-1, name=\"Embedding_Layer\")\n",
    "lstm = LSTM(128, name=\"LSTM_Layer\")\n",
    "output = Dense(vocab_size, activation='softmax', name=\"Output_Layer\")"
   ]
  },
  {
   "cell_type": "code",
   "execution_count": 143,
   "metadata": {},
   "outputs": [
    {
     "name": "stdout",
     "output_type": "stream",
     "text": [
      "Model: \"sequential_4\"\n",
      "_________________________________________________________________\n",
      "Layer (type)                 Output Shape              Param #   \n",
      "=================================================================\n",
      "Embedding_Layer (Embedding)  (None, 15, 10)            26530     \n",
      "_________________________________________________________________\n",
      "LSTM_Layer (LSTM)            (None, 128)               71168     \n",
      "_________________________________________________________________\n",
      "Output_Layer (Dense)         (None, 2653)              342237    \n",
      "=================================================================\n",
      "Total params: 439,935\n",
      "Trainable params: 439,935\n",
      "Non-trainable params: 0\n",
      "_________________________________________________________________\n"
     ]
    }
   ],
   "source": [
    "model = Sequential()\n",
    "model.add(embedding)\n",
    "model.add(lstm)\n",
    "model.add(output)\n",
    "model.summary()"
   ]
  },
  {
   "cell_type": "code",
   "execution_count": 144,
   "metadata": {},
   "outputs": [],
   "source": [
    "model.compile(loss='categorical_crossentropy', \n",
    "              optimizer='adam', metrics=['accuracy'])"
   ]
  },
  {
   "cell_type": "code",
   "execution_count": 145,
   "metadata": {
    "scrolled": true
   },
   "outputs": [
    {
     "name": "stderr",
     "output_type": "stream",
     "text": [
      "C:\\ProgramData\\Anaconda3\\envs\\tf2\\lib\\site-packages\\tensorflow_core\\python\\framework\\indexed_slices.py:433: UserWarning: Converting sparse IndexedSlices to a dense Tensor of unknown shape. This may consume a large amount of memory.\n",
      "  \"Converting sparse IndexedSlices to a dense Tensor of unknown shape. \"\n"
     ]
    },
    {
     "name": "stdout",
     "output_type": "stream",
     "text": [
      "Epoch 1/200\n",
      " - 2s - loss: 7.5105 - accuracy: 0.0314\n",
      "Epoch 2/200\n",
      " - 2s - loss: 6.9964 - accuracy: 0.0353\n",
      "Epoch 3/200\n",
      " - 1s - loss: 6.8710 - accuracy: 0.0371\n",
      "Epoch 4/200\n",
      " - 1s - loss: 6.7740 - accuracy: 0.0407\n",
      "Epoch 5/200\n",
      " - 2s - loss: 6.6590 - accuracy: 0.0478\n",
      "Epoch 6/200\n",
      " - 1s - loss: 6.5201 - accuracy: 0.0487\n",
      "Epoch 7/200\n",
      " - 2s - loss: 6.3649 - accuracy: 0.0538\n",
      "Epoch 8/200\n",
      " - 2s - loss: 6.1986 - accuracy: 0.0567\n",
      "Epoch 9/200\n",
      " - 2s - loss: 6.0242 - accuracy: 0.0607\n",
      "Epoch 10/200\n",
      " - 1s - loss: 5.8548 - accuracy: 0.0707\n",
      "Epoch 11/200\n",
      " - 1s - loss: 5.6920 - accuracy: 0.0725\n",
      "Epoch 12/200\n",
      " - 1s - loss: 5.5366 - accuracy: 0.0767\n",
      "Epoch 13/200\n",
      " - 1s - loss: 5.3921 - accuracy: 0.0816\n",
      "Epoch 14/200\n",
      " - 1s - loss: 5.2525 - accuracy: 0.0887\n",
      "Epoch 15/200\n",
      " - 2s - loss: 5.1202 - accuracy: 0.0916\n",
      "Epoch 16/200\n",
      " - 1s - loss: 4.9893 - accuracy: 0.0983\n",
      "Epoch 17/200\n",
      " - 1s - loss: 4.8673 - accuracy: 0.1027\n",
      "Epoch 18/200\n",
      " - 2s - loss: 4.7476 - accuracy: 0.1107\n",
      "Epoch 19/200\n",
      " - 1s - loss: 4.6329 - accuracy: 0.1240\n",
      "Epoch 20/200\n",
      " - 2s - loss: 4.5221 - accuracy: 0.1327\n",
      "Epoch 21/200\n",
      " - 1s - loss: 4.4111 - accuracy: 0.1485\n",
      "Epoch 22/200\n",
      " - 2s - loss: 4.3124 - accuracy: 0.1656\n",
      "Epoch 23/200\n",
      " - 1s - loss: 4.2098 - accuracy: 0.1783\n",
      "Epoch 24/200\n",
      " - 2s - loss: 4.1108 - accuracy: 0.1918\n",
      "Epoch 25/200\n",
      " - 1s - loss: 4.0142 - accuracy: 0.2083\n",
      "Epoch 26/200\n",
      " - 1s - loss: 3.9203 - accuracy: 0.2221\n",
      "Epoch 27/200\n",
      " - 1s - loss: 3.8261 - accuracy: 0.2358\n",
      "Epoch 28/200\n",
      " - 1s - loss: 3.7372 - accuracy: 0.2561\n",
      "Epoch 29/200\n",
      " - 1s - loss: 3.6489 - accuracy: 0.2676\n",
      "Epoch 30/200\n",
      " - 1s - loss: 3.5655 - accuracy: 0.2834\n",
      "Epoch 31/200\n",
      " - 2s - loss: 3.4801 - accuracy: 0.3012\n",
      "Epoch 32/200\n",
      " - 1s - loss: 3.4009 - accuracy: 0.3158\n",
      "Epoch 33/200\n",
      " - 1s - loss: 3.3231 - accuracy: 0.3288\n",
      "Epoch 34/200\n",
      " - 1s - loss: 3.2445 - accuracy: 0.3414\n",
      "Epoch 35/200\n",
      " - 1s - loss: 3.1755 - accuracy: 0.3567\n",
      "Epoch 36/200\n",
      " - 1s - loss: 3.0997 - accuracy: 0.3681\n",
      "Epoch 37/200\n",
      " - 2s - loss: 3.0316 - accuracy: 0.3805\n",
      "Epoch 38/200\n",
      " - 1s - loss: 2.9614 - accuracy: 0.3930\n",
      "Epoch 39/200\n",
      " - 1s - loss: 2.8978 - accuracy: 0.4047\n",
      "Epoch 40/200\n",
      " - 2s - loss: 2.8353 - accuracy: 0.4147\n",
      "Epoch 41/200\n",
      " - 1s - loss: 2.7722 - accuracy: 0.4319\n",
      "Epoch 42/200\n",
      " - 1s - loss: 2.7124 - accuracy: 0.4410\n",
      "Epoch 43/200\n",
      " - 2s - loss: 2.6517 - accuracy: 0.4481\n",
      "Epoch 44/200\n",
      " - 1s - loss: 2.5994 - accuracy: 0.4646\n",
      "Epoch 45/200\n",
      " - 1s - loss: 2.5446 - accuracy: 0.4716\n",
      "Epoch 46/200\n",
      " - 2s - loss: 2.4938 - accuracy: 0.4845\n",
      "Epoch 47/200\n",
      " - 2s - loss: 2.4412 - accuracy: 0.4930\n",
      "Epoch 48/200\n",
      " - 1s - loss: 2.3897 - accuracy: 0.5003\n",
      "Epoch 49/200\n",
      " - 2s - loss: 2.3423 - accuracy: 0.5065\n",
      "Epoch 50/200\n",
      " - 2s - loss: 2.2948 - accuracy: 0.5234\n",
      "Epoch 51/200\n",
      " - 1s - loss: 2.2461 - accuracy: 0.5288\n",
      "Epoch 52/200\n",
      " - 2s - loss: 2.2023 - accuracy: 0.5414\n",
      "Epoch 53/200\n",
      " - 1s - loss: 2.1589 - accuracy: 0.5481\n",
      "Epoch 54/200\n",
      " - 2s - loss: 2.1178 - accuracy: 0.5534\n",
      "Epoch 55/200\n",
      " - 2s - loss: 2.0751 - accuracy: 0.5697\n",
      "Epoch 56/200\n",
      " - 1s - loss: 2.0350 - accuracy: 0.5704\n",
      "Epoch 57/200\n",
      " - 2s - loss: 1.9957 - accuracy: 0.5832\n",
      "Epoch 58/200\n",
      " - 1s - loss: 1.9544 - accuracy: 0.5952\n",
      "Epoch 59/200\n",
      " - 2s - loss: 1.9178 - accuracy: 0.6030\n",
      "Epoch 60/200\n",
      " - 2s - loss: 1.8774 - accuracy: 0.6086\n",
      "Epoch 61/200\n",
      " - 1s - loss: 1.8446 - accuracy: 0.6204\n",
      "Epoch 62/200\n",
      " - 2s - loss: 1.8081 - accuracy: 0.6239\n",
      "Epoch 63/200\n",
      " - 2s - loss: 1.7742 - accuracy: 0.6308\n",
      "Epoch 64/200\n",
      " - 1s - loss: 1.7401 - accuracy: 0.6372\n",
      "Epoch 65/200\n",
      " - 2s - loss: 1.7085 - accuracy: 0.6477\n",
      "Epoch 66/200\n",
      " - 2s - loss: 1.6775 - accuracy: 0.6564\n",
      "Epoch 67/200\n",
      " - 1s - loss: 1.6421 - accuracy: 0.6659\n",
      "Epoch 68/200\n",
      " - 2s - loss: 1.6081 - accuracy: 0.6673\n",
      "Epoch 69/200\n",
      " - 2s - loss: 1.5802 - accuracy: 0.6781\n",
      "Epoch 70/200\n",
      " - 2s - loss: 1.5530 - accuracy: 0.6868\n",
      "Epoch 71/200\n",
      " - 1s - loss: 1.5232 - accuracy: 0.6917\n",
      "Epoch 72/200\n",
      " - 1s - loss: 1.4916 - accuracy: 0.6993\n",
      "Epoch 73/200\n",
      " - 1s - loss: 1.4631 - accuracy: 0.7050\n",
      "Epoch 74/200\n",
      " - 2s - loss: 1.4382 - accuracy: 0.7111\n",
      "Epoch 75/200\n",
      " - 2s - loss: 1.4092 - accuracy: 0.7175\n",
      "Epoch 76/200\n",
      " - 2s - loss: 1.3823 - accuracy: 0.7221\n",
      "Epoch 77/200\n",
      " - 2s - loss: 1.3572 - accuracy: 0.7286\n",
      "Epoch 78/200\n",
      " - 2s - loss: 1.3324 - accuracy: 0.7348\n",
      "Epoch 79/200\n",
      " - 2s - loss: 1.3075 - accuracy: 0.7371\n",
      "Epoch 80/200\n",
      " - 2s - loss: 1.2835 - accuracy: 0.7419\n",
      "Epoch 81/200\n",
      " - 2s - loss: 1.2574 - accuracy: 0.7464\n",
      "Epoch 82/200\n",
      " - 2s - loss: 1.2404 - accuracy: 0.7519\n",
      "Epoch 83/200\n",
      " - 2s - loss: 1.2131 - accuracy: 0.7548\n",
      "Epoch 84/200\n",
      " - 2s - loss: 1.1902 - accuracy: 0.7617\n",
      "Epoch 85/200\n",
      " - 2s - loss: 1.1668 - accuracy: 0.7644\n",
      "Epoch 86/200\n",
      " - 2s - loss: 1.1499 - accuracy: 0.7680\n",
      "Epoch 87/200\n",
      " - 2s - loss: 1.1272 - accuracy: 0.7706\n",
      "Epoch 88/200\n",
      " - 2s - loss: 1.1111 - accuracy: 0.7737\n",
      "Epoch 89/200\n",
      " - 2s - loss: 1.0871 - accuracy: 0.7808\n",
      "Epoch 90/200\n",
      " - 2s - loss: 1.0685 - accuracy: 0.7844\n",
      "Epoch 91/200\n",
      " - 2s - loss: 1.0474 - accuracy: 0.7880\n",
      "Epoch 92/200\n",
      " - 2s - loss: 1.0276 - accuracy: 0.7889\n",
      "Epoch 93/200\n",
      " - 2s - loss: 1.0095 - accuracy: 0.7919\n",
      "Epoch 94/200\n",
      " - 2s - loss: 0.9920 - accuracy: 0.7982\n",
      "Epoch 95/200\n",
      " - 2s - loss: 0.9744 - accuracy: 0.8015\n",
      "Epoch 96/200\n",
      " - 2s - loss: 0.9579 - accuracy: 0.8009\n",
      "Epoch 97/200\n",
      " - 2s - loss: 0.9382 - accuracy: 0.8084\n",
      "Epoch 98/200\n",
      " - 2s - loss: 0.9212 - accuracy: 0.8119\n",
      "Epoch 99/200\n",
      " - 2s - loss: 0.9066 - accuracy: 0.8091\n",
      "Epoch 100/200\n",
      " - 2s - loss: 0.8898 - accuracy: 0.8171\n",
      "Epoch 101/200\n",
      " - 1s - loss: 0.8742 - accuracy: 0.8188\n",
      "Epoch 102/200\n",
      " - 2s - loss: 0.8591 - accuracy: 0.8249\n",
      "Epoch 103/200\n",
      " - 2s - loss: 0.8435 - accuracy: 0.8255\n",
      "Epoch 104/200\n",
      " - 2s - loss: 0.8307 - accuracy: 0.8275\n",
      "Epoch 105/200\n",
      " - 2s - loss: 0.8193 - accuracy: 0.8293\n",
      "Epoch 106/200\n",
      " - 2s - loss: 0.8063 - accuracy: 0.8289\n",
      "Epoch 107/200\n",
      " - 2s - loss: 0.7892 - accuracy: 0.8364\n",
      "Epoch 108/200\n",
      " - 1s - loss: 0.7798 - accuracy: 0.8378\n",
      "Epoch 109/200\n",
      " - 2s - loss: 0.7642 - accuracy: 0.8377\n",
      "Epoch 110/200\n",
      " - 2s - loss: 0.7502 - accuracy: 0.8386\n",
      "Epoch 111/200\n",
      " - 2s - loss: 0.7371 - accuracy: 0.8455\n",
      "Epoch 112/200\n",
      " - 2s - loss: 0.7327 - accuracy: 0.8462\n",
      "Epoch 113/200\n",
      " - 2s - loss: 0.7175 - accuracy: 0.8477\n",
      "Epoch 114/200\n",
      " - 2s - loss: 0.7035 - accuracy: 0.8511\n",
      "Epoch 115/200\n",
      " - 2s - loss: 0.6935 - accuracy: 0.8518\n",
      "Epoch 116/200\n",
      " - 2s - loss: 0.6810 - accuracy: 0.8548\n",
      "Epoch 117/200\n",
      " - 2s - loss: 0.6701 - accuracy: 0.8529\n",
      "Epoch 118/200\n",
      " - 2s - loss: 0.6609 - accuracy: 0.8573\n",
      "Epoch 119/200\n",
      " - 2s - loss: 0.6506 - accuracy: 0.8589\n",
      "Epoch 120/200\n",
      " - 2s - loss: 0.6413 - accuracy: 0.8611\n",
      "Epoch 121/200\n",
      " - 2s - loss: 0.6317 - accuracy: 0.8617\n",
      "Epoch 122/200\n",
      " - 2s - loss: 0.6254 - accuracy: 0.8648\n",
      "Epoch 123/200\n",
      " - 2s - loss: 0.6160 - accuracy: 0.8646\n",
      "Epoch 124/200\n",
      " - 2s - loss: 0.6050 - accuracy: 0.8655\n",
      "Epoch 125/200\n",
      " - 2s - loss: 0.5967 - accuracy: 0.8682\n",
      "Epoch 126/200\n",
      " - 2s - loss: 0.5938 - accuracy: 0.8700\n",
      "Epoch 127/200\n",
      " - 2s - loss: 0.5843 - accuracy: 0.8695\n",
      "Epoch 128/200\n",
      " - 2s - loss: 0.5758 - accuracy: 0.8722\n",
      "Epoch 129/200\n",
      " - 2s - loss: 0.5654 - accuracy: 0.8726\n",
      "Epoch 130/200\n",
      " - 2s - loss: 0.5553 - accuracy: 0.8737\n",
      "Epoch 131/200\n",
      " - 1s - loss: 0.5494 - accuracy: 0.8757\n",
      "Epoch 132/200\n",
      " - 2s - loss: 0.5439 - accuracy: 0.8758\n",
      "Epoch 133/200\n",
      " - 2s - loss: 0.5365 - accuracy: 0.8767\n",
      "Epoch 134/200\n",
      " - 2s - loss: 0.5300 - accuracy: 0.8778\n",
      "Epoch 135/200\n",
      " - 1s - loss: 0.5235 - accuracy: 0.8780\n",
      "Epoch 136/200\n",
      " - 2s - loss: 0.5153 - accuracy: 0.8782\n",
      "Epoch 137/200\n",
      " - 2s - loss: 0.5087 - accuracy: 0.8815\n",
      "Epoch 138/200\n",
      " - 2s - loss: 0.5032 - accuracy: 0.8806\n",
      "Epoch 139/200\n",
      " - 1s - loss: 0.4980 - accuracy: 0.8831\n",
      "Epoch 140/200\n",
      " - 2s - loss: 0.4903 - accuracy: 0.8838\n",
      "Epoch 141/200\n",
      " - 1s - loss: 0.4883 - accuracy: 0.8815\n",
      "Epoch 142/200\n",
      " - 2s - loss: 0.4883 - accuracy: 0.8818\n",
      "Epoch 143/200\n",
      " - 2s - loss: 0.4865 - accuracy: 0.8837\n",
      "Epoch 144/200\n",
      " - 2s - loss: 0.4871 - accuracy: 0.8829\n",
      "Epoch 145/200\n",
      " - 2s - loss: 0.4753 - accuracy: 0.8862\n",
      "Epoch 146/200\n",
      " - 2s - loss: 0.4661 - accuracy: 0.8840\n",
      "Epoch 147/200\n",
      " - 2s - loss: 0.4580 - accuracy: 0.8867\n",
      "Epoch 148/200\n",
      " - 2s - loss: 0.4524 - accuracy: 0.8862\n",
      "Epoch 149/200\n",
      " - 2s - loss: 0.4481 - accuracy: 0.8864\n",
      "Epoch 150/200\n",
      " - 2s - loss: 0.4430 - accuracy: 0.8871\n",
      "Epoch 151/200\n",
      " - 2s - loss: 0.4395 - accuracy: 0.8895\n",
      "Epoch 152/200\n",
      " - 2s - loss: 0.4353 - accuracy: 0.8900\n",
      "Epoch 153/200\n",
      " - 2s - loss: 0.4303 - accuracy: 0.8891\n",
      "Epoch 154/200\n",
      " - 2s - loss: 0.4268 - accuracy: 0.8893\n"
     ]
    },
    {
     "name": "stdout",
     "output_type": "stream",
     "text": [
      "Epoch 155/200\n",
      " - 2s - loss: 0.4227 - accuracy: 0.8911\n",
      "Epoch 156/200\n",
      " - 2s - loss: 0.4204 - accuracy: 0.8906\n",
      "Epoch 157/200\n",
      " - 2s - loss: 0.4163 - accuracy: 0.8913\n",
      "Epoch 158/200\n",
      " - 2s - loss: 0.4127 - accuracy: 0.8920\n",
      "Epoch 159/200\n",
      " - 2s - loss: 0.4090 - accuracy: 0.8917\n",
      "Epoch 160/200\n",
      " - 2s - loss: 0.4077 - accuracy: 0.8909\n",
      "Epoch 161/200\n",
      " - 2s - loss: 0.4039 - accuracy: 0.8906\n",
      "Epoch 162/200\n",
      " - 2s - loss: 0.4011 - accuracy: 0.8909\n",
      "Epoch 163/200\n",
      " - 2s - loss: 0.3976 - accuracy: 0.8909\n",
      "Epoch 164/200\n",
      " - 2s - loss: 0.4033 - accuracy: 0.8906\n",
      "Epoch 165/200\n",
      " - 2s - loss: 0.4184 - accuracy: 0.8895\n",
      "Epoch 166/200\n",
      " - 2s - loss: 0.4271 - accuracy: 0.8880\n",
      "Epoch 167/200\n",
      " - 2s - loss: 0.4026 - accuracy: 0.8884\n",
      "Epoch 168/200\n",
      " - 2s - loss: 0.3874 - accuracy: 0.8949\n",
      "Epoch 169/200\n",
      " - 2s - loss: 0.3829 - accuracy: 0.8942\n",
      "Epoch 170/200\n",
      " - 2s - loss: 0.3791 - accuracy: 0.8960\n",
      "Epoch 171/200\n",
      " - 2s - loss: 0.3768 - accuracy: 0.8931\n",
      "Epoch 172/200\n",
      " - 2s - loss: 0.3757 - accuracy: 0.8935\n",
      "Epoch 173/200\n",
      " - 2s - loss: 0.3741 - accuracy: 0.8955\n",
      "Epoch 174/200\n",
      " - 2s - loss: 0.3710 - accuracy: 0.8931\n",
      "Epoch 175/200\n",
      " - 2s - loss: 0.3707 - accuracy: 0.8940\n",
      "Epoch 176/200\n",
      " - 2s - loss: 0.3680 - accuracy: 0.8940\n",
      "Epoch 177/200\n",
      " - 2s - loss: 0.3659 - accuracy: 0.8942\n",
      "Epoch 178/200\n",
      " - 2s - loss: 0.3638 - accuracy: 0.8958\n",
      "Epoch 179/200\n",
      " - 2s - loss: 0.3623 - accuracy: 0.8924\n",
      "Epoch 180/200\n",
      " - 2s - loss: 0.3628 - accuracy: 0.8926\n",
      "Epoch 181/200\n",
      " - 2s - loss: 0.3598 - accuracy: 0.8964\n",
      "Epoch 182/200\n",
      " - 2s - loss: 0.3587 - accuracy: 0.8951\n",
      "Epoch 183/200\n",
      " - 2s - loss: 0.3594 - accuracy: 0.8935\n",
      "Epoch 184/200\n",
      " - 2s - loss: 0.3575 - accuracy: 0.8955\n",
      "Epoch 185/200\n",
      " - 2s - loss: 0.3542 - accuracy: 0.8962\n",
      "Epoch 186/200\n",
      " - 2s - loss: 0.3529 - accuracy: 0.8949\n",
      "Epoch 187/200\n",
      " - 2s - loss: 0.3517 - accuracy: 0.8957\n",
      "Epoch 188/200\n",
      " - 2s - loss: 0.3518 - accuracy: 0.8957\n",
      "Epoch 189/200\n",
      " - 2s - loss: 0.3512 - accuracy: 0.8964\n",
      "Epoch 190/200\n",
      " - 2s - loss: 0.3487 - accuracy: 0.8960\n",
      "Epoch 191/200\n",
      " - 2s - loss: 0.3486 - accuracy: 0.8949\n",
      "Epoch 192/200\n",
      " - 2s - loss: 0.3453 - accuracy: 0.8946\n",
      "Epoch 193/200\n",
      " - 2s - loss: 0.3470 - accuracy: 0.8949\n",
      "Epoch 194/200\n",
      " - 2s - loss: 0.3453 - accuracy: 0.8949\n",
      "Epoch 195/200\n",
      " - 2s - loss: 0.3446 - accuracy: 0.8935\n",
      "Epoch 196/200\n",
      " - 2s - loss: 0.3475 - accuracy: 0.8960\n",
      "Epoch 197/200\n",
      " - 2s - loss: 0.3713 - accuracy: 0.8922\n",
      "Epoch 198/200\n",
      " - 2s - loss: 0.3610 - accuracy: 0.8913\n",
      "Epoch 199/200\n",
      " - 2s - loss: 0.3450 - accuracy: 0.8937\n",
      "Epoch 200/200\n",
      " - 2s - loss: 0.3391 - accuracy: 0.8955\n"
     ]
    }
   ],
   "source": [
    "history = model.fit(X, y, epochs=200, verbose=2) "
   ]
  },
  {
   "cell_type": "code",
   "execution_count": 146,
   "metadata": {},
   "outputs": [
    {
     "data": {
      "text/plain": [
       "0.89547354"
      ]
     },
     "execution_count": 146,
     "metadata": {},
     "output_type": "execute_result"
    }
   ],
   "source": [
    "history.history['accuracy'][199]"
   ]
  },
  {
   "cell_type": "markdown",
   "metadata": {},
   "source": [
    "## 3. 모델 검증"
   ]
  },
  {
   "cell_type": "code",
   "execution_count": 147,
   "metadata": {},
   "outputs": [],
   "source": [
    "def sentence_generation(model, t, current_word, n): # 모델, 토크나이저, 현재 단어, 반복할 횟수\n",
    "    init_word = current_word # 처음 들어온 단어도 마지막에 같이 출력하기위해 저장\n",
    "    sentence = ''\n",
    "    for _ in range(n): # n번 반복\n",
    "        encoded = t.texts_to_sequences([current_word])[0] # 현재 단어에 대한 정수 인코딩\n",
    "        encoded = pad_sequences([encoded], max_len-1) # 데이터에 대한 패딩\n",
    "        result = model.predict_classes(encoded, verbose=0)\n",
    "          # 입력한 X(현재 단어)에 대해서 y를 예측하고 y(예측한 단어)를 result에 저장.\n",
    "        for word, index in t.word_index.items(): \n",
    "            if index == result: # 만약 예측한 단어와 인덱스와 동일한 단어가 있다면\n",
    "                break # 해당 단어가 예측 단어이므로 break\n",
    "        current_word = current_word + ' '  + word # 현재 단어 + ' ' + 예측 단어를 현재 단어로 변경\n",
    "        sentence = sentence + ' ' + word # 예측 단어를 문장에 저장\n",
    "\n",
    "    sentence = init_word + sentence\n",
    "    return sentence"
   ]
  },
  {
   "cell_type": "code",
   "execution_count": 152,
   "metadata": {},
   "outputs": [
    {
     "data": {
      "text/plain": [
       "0                            My Beijing: The Sacred City\n",
       "1               6 Million Riders a Day, 1930s Technology\n",
       "2                      Seeking a Cross-Border Conference\n",
       "3      Questions for: ‘Despite the “Yuck Factor,” Lee...\n",
       "4                                   Who Is a ‘Criminal’?\n",
       "                             ...                        \n",
       "991    Yes, You Can Write More Than One Letter in a S...\n",
       "992               Trump’s Act  Of Gratuitous Destruction\n",
       "993                           Petty Crime, Daunting Bail\n",
       "994                                              Unknown\n",
       "995    Bucking Trump, These Cities, States and Compan...\n",
       "Name: headline, Length: 996, dtype: object"
      ]
     },
     "execution_count": 152,
     "metadata": {},
     "output_type": "execute_result"
    }
   ],
   "source": [
    "df['headline']"
   ]
  },
  {
   "cell_type": "code",
   "execution_count": 154,
   "metadata": {},
   "outputs": [
    {
     "name": "stdout",
     "output_type": "stream",
     "text": [
      "My Beijing the sacred city\n"
     ]
    }
   ],
   "source": [
    "print(sentence_generation(model, t, 'My Beijing', 3))"
   ]
  },
  {
   "cell_type": "code",
   "execution_count": 159,
   "metadata": {},
   "outputs": [
    {
     "name": "stdout",
     "output_type": "stream",
     "text": [
      "6 Million riders a day 1930s technology\n"
     ]
    }
   ],
   "source": [
    "print(sentence_generation(model, t, '6 Million', 5))"
   ]
  },
  {
   "cell_type": "code",
   "execution_count": 160,
   "metadata": {},
   "outputs": [
    {
     "name": "stdout",
     "output_type": "stream",
     "text": [
      "Seeking a crossborder conference\n"
     ]
    }
   ],
   "source": [
    "print(sentence_generation(model, t, 'Seeking a', 2))"
   ]
  }
 ],
 "metadata": {
  "kernelspec": {
   "display_name": "Python 3",
   "language": "python",
   "name": "python3"
  },
  "language_info": {
   "codemirror_mode": {
    "name": "ipython",
    "version": 3
   },
   "file_extension": ".py",
   "mimetype": "text/x-python",
   "name": "python",
   "nbconvert_exporter": "python",
   "pygments_lexer": "ipython3",
   "version": "3.7.7"
  }
 },
 "nbformat": 4,
 "nbformat_minor": 2
}
