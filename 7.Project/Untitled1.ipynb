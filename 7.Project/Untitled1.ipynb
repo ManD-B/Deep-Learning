{
 "cells": [
  {
   "cell_type": "markdown",
   "metadata": {},
   "source": [
    "# 단순회귀"
   ]
  },
  {
   "cell_type": "code",
   "execution_count": 1,
   "metadata": {},
   "outputs": [],
   "source": [
    "import numpy as np\n",
    "import pandas as pd\n",
    "import tensorflow as tf\n",
    "import matplotlib.pyplot as plt\n",
    "%matplotlib inline\n",
    "\n",
    "from tensorflow.keras.models import Sequential\n",
    "from tensorflow.keras.layers import Dense\n",
    "from sklearn.model_selection import train_test_split"
   ]
  },
  {
   "cell_type": "code",
   "execution_count": 2,
   "metadata": {},
   "outputs": [],
   "source": [
    "# # seed 값 설정\n",
    "# seed = 2020\n",
    "# np.random.seed(seed)\n",
    "# tf.random.set_seed(seed)"
   ]
  },
  {
   "cell_type": "code",
   "execution_count": 3,
   "metadata": {},
   "outputs": [
    {
     "data": {
      "text/html": [
       "<div>\n",
       "<style scoped>\n",
       "    .dataframe tbody tr th:only-of-type {\n",
       "        vertical-align: middle;\n",
       "    }\n",
       "\n",
       "    .dataframe tbody tr th {\n",
       "        vertical-align: top;\n",
       "    }\n",
       "\n",
       "    .dataframe thead th {\n",
       "        text-align: right;\n",
       "    }\n",
       "</style>\n",
       "<table border=\"1\" class=\"dataframe\">\n",
       "  <thead>\n",
       "    <tr style=\"text-align: right;\">\n",
       "      <th></th>\n",
       "      <th>date</th>\n",
       "      <th>Gold</th>\n",
       "      <th>Silver</th>\n",
       "      <th>Dow</th>\n",
       "      <th>Nas</th>\n",
       "      <th>S&amp;P</th>\n",
       "      <th>CNY</th>\n",
       "      <th>EUR</th>\n",
       "      <th>JPY</th>\n",
       "      <th>USD</th>\n",
       "    </tr>\n",
       "  </thead>\n",
       "  <tbody>\n",
       "    <tr>\n",
       "      <th>0</th>\n",
       "      <td>20200731</td>\n",
       "      <td>75628.90</td>\n",
       "      <td>926.271641</td>\n",
       "      <td>26428.32</td>\n",
       "      <td>10745.28</td>\n",
       "      <td>3271.12</td>\n",
       "      <td>170.67</td>\n",
       "      <td>1410.74</td>\n",
       "      <td>1137.32</td>\n",
       "      <td>1191.0</td>\n",
       "    </tr>\n",
       "    <tr>\n",
       "      <th>1</th>\n",
       "      <td>20200730</td>\n",
       "      <td>75110.59</td>\n",
       "      <td>897.475847</td>\n",
       "      <td>26313.65</td>\n",
       "      <td>10587.81</td>\n",
       "      <td>3246.22</td>\n",
       "      <td>170.68</td>\n",
       "      <td>1404.82</td>\n",
       "      <td>1138.13</td>\n",
       "      <td>1196.0</td>\n",
       "    </tr>\n",
       "    <tr>\n",
       "      <th>2</th>\n",
       "      <td>20200729</td>\n",
       "      <td>75110.45</td>\n",
       "      <td>932.827495</td>\n",
       "      <td>26539.57</td>\n",
       "      <td>10542.94</td>\n",
       "      <td>3258.44</td>\n",
       "      <td>170.56</td>\n",
       "      <td>1401.40</td>\n",
       "      <td>1137.09</td>\n",
       "      <td>1194.0</td>\n",
       "    </tr>\n",
       "    <tr>\n",
       "      <th>3</th>\n",
       "      <td>20200728</td>\n",
       "      <td>74342.85</td>\n",
       "      <td>935.967496</td>\n",
       "      <td>26379.28</td>\n",
       "      <td>10402.09</td>\n",
       "      <td>3218.44</td>\n",
       "      <td>171.27</td>\n",
       "      <td>1407.61</td>\n",
       "      <td>1140.26</td>\n",
       "      <td>1199.5</td>\n",
       "    </tr>\n",
       "    <tr>\n",
       "      <th>4</th>\n",
       "      <td>20200727</td>\n",
       "      <td>74332.14</td>\n",
       "      <td>942.098478</td>\n",
       "      <td>26584.77</td>\n",
       "      <td>10536.27</td>\n",
       "      <td>3239.41</td>\n",
       "      <td>170.88</td>\n",
       "      <td>1403.60</td>\n",
       "      <td>1136.81</td>\n",
       "      <td>1197.0</td>\n",
       "    </tr>\n",
       "    <tr>\n",
       "      <th>...</th>\n",
       "      <td>...</td>\n",
       "      <td>...</td>\n",
       "      <td>...</td>\n",
       "      <td>...</td>\n",
       "      <td>...</td>\n",
       "      <td>...</td>\n",
       "      <td>...</td>\n",
       "      <td>...</td>\n",
       "      <td>...</td>\n",
       "      <td>...</td>\n",
       "    </tr>\n",
       "    <tr>\n",
       "      <th>2597</th>\n",
       "      <td>20100806</td>\n",
       "      <td>44660.81</td>\n",
       "      <td>690.243220</td>\n",
       "      <td>10653.56</td>\n",
       "      <td>2288.47</td>\n",
       "      <td>1121.64</td>\n",
       "      <td>171.75</td>\n",
       "      <td>1534.00</td>\n",
       "      <td>1350.28</td>\n",
       "      <td>1163.0</td>\n",
       "    </tr>\n",
       "    <tr>\n",
       "      <th>2598</th>\n",
       "      <td>20100805</td>\n",
       "      <td>44870.25</td>\n",
       "      <td>685.811886</td>\n",
       "      <td>10674.98</td>\n",
       "      <td>2293.06</td>\n",
       "      <td>1125.81</td>\n",
       "      <td>172.02</td>\n",
       "      <td>1531.28</td>\n",
       "      <td>1349.94</td>\n",
       "      <td>1165.0</td>\n",
       "    </tr>\n",
       "    <tr>\n",
       "      <th>2599</th>\n",
       "      <td>20100804</td>\n",
       "      <td>45009.08</td>\n",
       "      <td>686.874468</td>\n",
       "      <td>10680.43</td>\n",
       "      <td>2303.57</td>\n",
       "      <td>1127.24</td>\n",
       "      <td>172.74</td>\n",
       "      <td>1543.23</td>\n",
       "      <td>1368.42</td>\n",
       "      <td>1170.0</td>\n",
       "    </tr>\n",
       "    <tr>\n",
       "      <th>2600</th>\n",
       "      <td>20100803</td>\n",
       "      <td>44425.74</td>\n",
       "      <td>691.629077</td>\n",
       "      <td>10636.38</td>\n",
       "      <td>2283.52</td>\n",
       "      <td>1120.46</td>\n",
       "      <td>172.49</td>\n",
       "      <td>1545.93</td>\n",
       "      <td>1359.20</td>\n",
       "      <td>1168.5</td>\n",
       "    </tr>\n",
       "    <tr>\n",
       "      <th>2601</th>\n",
       "      <td>20100802</td>\n",
       "      <td>44534.63</td>\n",
       "      <td>694.507049</td>\n",
       "      <td>10674.38</td>\n",
       "      <td>2295.36</td>\n",
       "      <td>1125.86</td>\n",
       "      <td>173.36</td>\n",
       "      <td>1534.18</td>\n",
       "      <td>1352.69</td>\n",
       "      <td>1174.0</td>\n",
       "    </tr>\n",
       "  </tbody>\n",
       "</table>\n",
       "<p>2602 rows × 10 columns</p>\n",
       "</div>"
      ],
      "text/plain": [
       "          date      Gold      Silver       Dow       Nas      S&P     CNY  \\\n",
       "0     20200731  75628.90  926.271641  26428.32  10745.28  3271.12  170.67   \n",
       "1     20200730  75110.59  897.475847  26313.65  10587.81  3246.22  170.68   \n",
       "2     20200729  75110.45  932.827495  26539.57  10542.94  3258.44  170.56   \n",
       "3     20200728  74342.85  935.967496  26379.28  10402.09  3218.44  171.27   \n",
       "4     20200727  74332.14  942.098478  26584.77  10536.27  3239.41  170.88   \n",
       "...        ...       ...         ...       ...       ...      ...     ...   \n",
       "2597  20100806  44660.81  690.243220  10653.56   2288.47  1121.64  171.75   \n",
       "2598  20100805  44870.25  685.811886  10674.98   2293.06  1125.81  172.02   \n",
       "2599  20100804  45009.08  686.874468  10680.43   2303.57  1127.24  172.74   \n",
       "2600  20100803  44425.74  691.629077  10636.38   2283.52  1120.46  172.49   \n",
       "2601  20100802  44534.63  694.507049  10674.38   2295.36  1125.86  173.36   \n",
       "\n",
       "          EUR      JPY     USD  \n",
       "0     1410.74  1137.32  1191.0  \n",
       "1     1404.82  1138.13  1196.0  \n",
       "2     1401.40  1137.09  1194.0  \n",
       "3     1407.61  1140.26  1199.5  \n",
       "4     1403.60  1136.81  1197.0  \n",
       "...       ...      ...     ...  \n",
       "2597  1534.00  1350.28  1163.0  \n",
       "2598  1531.28  1349.94  1165.0  \n",
       "2599  1543.23  1368.42  1170.0  \n",
       "2600  1545.93  1359.20  1168.5  \n",
       "2601  1534.18  1352.69  1174.0  \n",
       "\n",
       "[2602 rows x 10 columns]"
      ]
     },
     "execution_count": 3,
     "metadata": {},
     "output_type": "execute_result"
    }
   ],
   "source": [
    "df = pd.read_csv('aa.csv', sep=',', encoding = 'euc-kr')\n",
    "df = df.drop('Silver($)',axis = 1)\n",
    "df"
   ]
  },
  {
   "cell_type": "code",
   "execution_count": 4,
   "metadata": {
    "scrolled": true
   },
   "outputs": [
    {
     "data": {
      "text/html": [
       "<div>\n",
       "<style scoped>\n",
       "    .dataframe tbody tr th:only-of-type {\n",
       "        vertical-align: middle;\n",
       "    }\n",
       "\n",
       "    .dataframe tbody tr th {\n",
       "        vertical-align: top;\n",
       "    }\n",
       "\n",
       "    .dataframe thead th {\n",
       "        text-align: right;\n",
       "    }\n",
       "</style>\n",
       "<table border=\"1\" class=\"dataframe\">\n",
       "  <thead>\n",
       "    <tr style=\"text-align: right;\">\n",
       "      <th></th>\n",
       "      <th>date</th>\n",
       "      <th>Gold</th>\n",
       "    </tr>\n",
       "  </thead>\n",
       "  <tbody>\n",
       "    <tr>\n",
       "      <th>0</th>\n",
       "      <td>20200731</td>\n",
       "      <td>75628.90</td>\n",
       "    </tr>\n",
       "    <tr>\n",
       "      <th>1</th>\n",
       "      <td>20200730</td>\n",
       "      <td>75110.59</td>\n",
       "    </tr>\n",
       "    <tr>\n",
       "      <th>2</th>\n",
       "      <td>20200729</td>\n",
       "      <td>75110.45</td>\n",
       "    </tr>\n",
       "    <tr>\n",
       "      <th>3</th>\n",
       "      <td>20200728</td>\n",
       "      <td>74342.85</td>\n",
       "    </tr>\n",
       "    <tr>\n",
       "      <th>4</th>\n",
       "      <td>20200727</td>\n",
       "      <td>74332.14</td>\n",
       "    </tr>\n",
       "    <tr>\n",
       "      <th>...</th>\n",
       "      <td>...</td>\n",
       "      <td>...</td>\n",
       "    </tr>\n",
       "    <tr>\n",
       "      <th>2597</th>\n",
       "      <td>20100806</td>\n",
       "      <td>44660.81</td>\n",
       "    </tr>\n",
       "    <tr>\n",
       "      <th>2598</th>\n",
       "      <td>20100805</td>\n",
       "      <td>44870.25</td>\n",
       "    </tr>\n",
       "    <tr>\n",
       "      <th>2599</th>\n",
       "      <td>20100804</td>\n",
       "      <td>45009.08</td>\n",
       "    </tr>\n",
       "    <tr>\n",
       "      <th>2600</th>\n",
       "      <td>20100803</td>\n",
       "      <td>44425.74</td>\n",
       "    </tr>\n",
       "    <tr>\n",
       "      <th>2601</th>\n",
       "      <td>20100802</td>\n",
       "      <td>44534.63</td>\n",
       "    </tr>\n",
       "  </tbody>\n",
       "</table>\n",
       "<p>2602 rows × 2 columns</p>\n",
       "</div>"
      ],
      "text/plain": [
       "          date      Gold\n",
       "0     20200731  75628.90\n",
       "1     20200730  75110.59\n",
       "2     20200729  75110.45\n",
       "3     20200728  74342.85\n",
       "4     20200727  74332.14\n",
       "...        ...       ...\n",
       "2597  20100806  44660.81\n",
       "2598  20100805  44870.25\n",
       "2599  20100804  45009.08\n",
       "2600  20100803  44425.74\n",
       "2601  20100802  44534.63\n",
       "\n",
       "[2602 rows x 2 columns]"
      ]
     },
     "execution_count": 4,
     "metadata": {},
     "output_type": "execute_result"
    }
   ],
   "source": [
    "data = df[['date' , 'Gold']]\n",
    "data"
   ]
  },
  {
   "cell_type": "code",
   "execution_count": 5,
   "metadata": {},
   "outputs": [
    {
     "data": {
      "text/html": [
       "<div>\n",
       "<style scoped>\n",
       "    .dataframe tbody tr th:only-of-type {\n",
       "        vertical-align: middle;\n",
       "    }\n",
       "\n",
       "    .dataframe tbody tr th {\n",
       "        vertical-align: top;\n",
       "    }\n",
       "\n",
       "    .dataframe thead th {\n",
       "        text-align: right;\n",
       "    }\n",
       "</style>\n",
       "<table border=\"1\" class=\"dataframe\">\n",
       "  <thead>\n",
       "    <tr style=\"text-align: right;\">\n",
       "      <th></th>\n",
       "      <th>date</th>\n",
       "      <th>Gold</th>\n",
       "    </tr>\n",
       "  </thead>\n",
       "  <tbody>\n",
       "    <tr>\n",
       "      <th>0</th>\n",
       "      <td>20200731</td>\n",
       "      <td>75628.90</td>\n",
       "    </tr>\n",
       "    <tr>\n",
       "      <th>1</th>\n",
       "      <td>20200730</td>\n",
       "      <td>75110.59</td>\n",
       "    </tr>\n",
       "    <tr>\n",
       "      <th>2</th>\n",
       "      <td>20200729</td>\n",
       "      <td>75110.45</td>\n",
       "    </tr>\n",
       "    <tr>\n",
       "      <th>3</th>\n",
       "      <td>20200728</td>\n",
       "      <td>74342.85</td>\n",
       "    </tr>\n",
       "    <tr>\n",
       "      <th>4</th>\n",
       "      <td>20200727</td>\n",
       "      <td>74332.14</td>\n",
       "    </tr>\n",
       "    <tr>\n",
       "      <th>...</th>\n",
       "      <td>...</td>\n",
       "      <td>...</td>\n",
       "    </tr>\n",
       "    <tr>\n",
       "      <th>95</th>\n",
       "      <td>20200323</td>\n",
       "      <td>60659.97</td>\n",
       "    </tr>\n",
       "    <tr>\n",
       "      <th>96</th>\n",
       "      <td>20200320</td>\n",
       "      <td>60078.30</td>\n",
       "    </tr>\n",
       "    <tr>\n",
       "      <th>97</th>\n",
       "      <td>20200319</td>\n",
       "      <td>60964.48</td>\n",
       "    </tr>\n",
       "    <tr>\n",
       "      <th>98</th>\n",
       "      <td>20200318</td>\n",
       "      <td>60368.93</td>\n",
       "    </tr>\n",
       "    <tr>\n",
       "      <th>99</th>\n",
       "      <td>20200317</td>\n",
       "      <td>59111.17</td>\n",
       "    </tr>\n",
       "  </tbody>\n",
       "</table>\n",
       "<p>100 rows × 2 columns</p>\n",
       "</div>"
      ],
      "text/plain": [
       "        date      Gold\n",
       "0   20200731  75628.90\n",
       "1   20200730  75110.59\n",
       "2   20200729  75110.45\n",
       "3   20200728  74342.85\n",
       "4   20200727  74332.14\n",
       "..       ...       ...\n",
       "95  20200323  60659.97\n",
       "96  20200320  60078.30\n",
       "97  20200319  60964.48\n",
       "98  20200318  60368.93\n",
       "99  20200317  59111.17\n",
       "\n",
       "[100 rows x 2 columns]"
      ]
     },
     "execution_count": 5,
     "metadata": {},
     "output_type": "execute_result"
    }
   ],
   "source": [
    "data = data[0:100]\n",
    "data"
   ]
  },
  {
   "cell_type": "code",
   "execution_count": 6,
   "metadata": {},
   "outputs": [
    {
     "data": {
      "text/plain": [
       "<matplotlib.axes._subplots.AxesSubplot at 0x16d65e05dc8>"
      ]
     },
     "execution_count": 6,
     "metadata": {},
     "output_type": "execute_result"
    },
    {
     "data": {
      "image/png": "[encoded data removed]",
      "text/plain": [
       "<Figure size 360x360 with 1 Axes>"
      ]
     },
     "metadata": {
      "needs_background": "light"
     },
     "output_type": "display_data"
    }
   ],
   "source": [
    "data.plot(kind = \"scatter\", x = 'date', y = 'Gold', figsize = (5,5), color = \"black\")"
   ]
  },
  {
   "cell_type": "code",
   "execution_count": 7,
   "metadata": {},
   "outputs": [
    {
     "name": "stdout",
     "output_type": "stream",
     "text": [
      "a value =  -370656004.39136577\n",
      "b balue =  [18.35215721]\n"
     ]
    }
   ],
   "source": [
    "from sklearn import linear_model\n",
    "linear_regression = linear_model.LinearRegression()\n",
    "linear_regression.fit(X=pd.DataFrame(data[\"date\"]), y = data[\"Gold\"])\n",
    "prediction = linear_regression.predict(X = pd.DataFrame(data[\"date\"]))\n",
    "print('a value = ', linear_regression.intercept_)\n",
    "print('b balue = ', linear_regression.coef_)"
   ]
  },
  {
   "cell_type": "code",
   "execution_count": 8,
   "metadata": {},
   "outputs": [
    {
     "data": {
      "text/plain": [
       "count    1.000000e+02\n",
       "mean    -5.876966e-08\n",
       "std      1.852371e+03\n",
       "min     -4.277737e+03\n",
       "25%     -1.390468e+03\n",
       "50%     -1.644578e+02\n",
       "75%      1.396243e+03\n",
       "max      4.642200e+03\n",
       "Name: Gold, dtype: float64"
      ]
     },
     "execution_count": 8,
     "metadata": {},
     "output_type": "execute_result"
    }
   ],
   "source": [
    "residuals = data[\"Gold\"] - prediction\n",
    "residuals.describe()"
   ]
  },
  {
   "cell_type": "code",
   "execution_count": 9,
   "metadata": {},
   "outputs": [
    {
     "name": "stdout",
     "output_type": "stream",
     "text": [
      "R_squared =  0.6294855546920988\n"
     ]
    }
   ],
   "source": [
    "SSE = (residuals**2).sum()\n",
    "SST = ((data[\"Gold\"]-data[\"Gold\"].mean())**2).sum()\n",
    "R_squared = 1 - (SSE/SST)\n",
    "print('R_squared = ', R_squared)"
   ]
  },
  {
   "cell_type": "code",
   "execution_count": 10,
   "metadata": {},
   "outputs": [
    {
     "data": {
      "text/plain": [
       "[<matplotlib.lines.Line2D at 0x16d66320308>]"
      ]
     },
     "execution_count": 10,
     "metadata": {},
     "output_type": "execute_result"
    },
    {
     "data": {
      "image/png": "[encoded data removed]",
      "text/plain": [
       "<Figure size 720x360 with 1 Axes>"
      ]
     },
     "metadata": {
      "needs_background": "light"
     },
     "output_type": "display_data"
    }
   ],
   "source": [
    "data.plot(kind = \"scatter\", x = \"date\", y = \"Gold\", figsize = (10, 5), color = \"black\")\n",
    "\n",
    "#Plot regression line\n",
    "plt.plot(data[\"date\"],prediction,color=\"blue\")"
   ]
  },
  {
   "cell_type": "code",
   "execution_count": 12,
   "metadata": {},
   "outputs": [
    {
     "name": "stdout",
     "output_type": "stream",
     "text": [
      "score =  LinearRegression()\n",
      "Mean_Squared_Error =  3396965.187395482\n",
      "RMSE =  1843.0857786319882\n"
     ]
    }
   ],
   "source": [
    "from sklearn.metrics import mean_squared_error\n",
    "\n",
    "print('score = ', linear_regression.fit(X=pd.DataFrame(data[\"date\"]), y = data[\"Gold\"]))\n",
    "\n",
    "print('Mean_Squared_Error = ', mean_squared_error(prediction, data['Gold']))\n",
    "\n",
    "print('RMSE = ', mean_squared_error(prediction, data['Gold'])**0.5)"
   ]
  },
  {
   "cell_type": "code",
   "execution_count": null,
   "metadata": {},
   "outputs": [],
   "source": []
  },
  {
   "cell_type": "code",
   "execution_count": null,
   "metadata": {},
   "outputs": [],
   "source": []
  }
 ],
 "metadata": {
  "kernelspec": {
   "display_name": "Python 3",
   "language": "python",
   "name": "python3"
  },
  "language_info": {
   "codemirror_mode": {
    "name": "ipython",
    "version": 3
   },
   "file_extension": ".py",
   "mimetype": "text/x-python",
   "name": "python",
   "nbconvert_exporter": "python",
   "pygments_lexer": "ipython3",
   "version": "3.7.7"
  }
 },
 "nbformat": 4,
 "nbformat_minor": 4
}
